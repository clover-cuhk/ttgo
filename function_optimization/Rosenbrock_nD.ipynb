{
 "cells": [
  {
   "cell_type": "markdown",
   "metadata": {},
   "source": [
    "### Optimization of n-D Rosenbrock function\n",
    "\n",
    "Reference: https://en.wikipedia.org/wiki/Rosenbrock_function\n",
    "\n",
    "$$ cost(a,b,\\mathbf{x}) = \\sum_{i=0}^{N/2+1} b (x_{2i+1}-x_{2i})^2 + (x_{2i}-a)^2 ,$$\n",
    "$$pdf(a,b,\\mathbf{x}) = e^{-cost(a,b,\\mathbf{x})}$$ \n",
    "\n",
    "Here, $\\mathbf{x}_{task}=(a,b)$ and $\\mathbf{x}_{decision} = \\mathbf{x}$\n",
    "\n",
    "The global optima is uniquely given by $(a,a^2,a,a^2,\\ldots, a,a^2)$\n",
    "\n",
    "We show that TTGO is able to find the global optima consistently with a hand few of samples from the constructed tt-model of the above pdf (constructed offline) for various selection of $\\mathbf{x}_{task}$ in the online phase. However, a naive approach of sampling from uniform distribution to initialize a Netwon-type optimizer does not work for larger $n$ (try $n=10$ in this notebook). We use scipy's SLSQP to fine tune the initialization provided by TTGO and uniform distribution.\n",
    "\n",
    "Copyright (c) 2008 Idiap Research Institute, http://www.idiap.ch/\n",
    "    Written by Suhan Shetty <suhan.shetty@idiap.ch>,\n"
   ]
  },
  {
   "cell_type": "code",
   "execution_count": 1,
   "metadata": {},
   "outputs": [],
   "source": [
    "import torch\n",
    "torch.set_default_dtype(torch.float64)\n",
    "\n",
    "import numpy as np\n",
    "import sys\n",
    "sys.path.append('./fcn_opt')\n",
    "sys.path.append('../')\n",
    "\n",
    "from ttgo import TTGO\n",
    "from test_fcns import Rosenbrock_nD \n",
    "from fcn_plotting_utils import plot_surf, plot_contour\n",
    "\n",
    "%load_ext autoreload\n",
    "np.set_printoptions(precision=2)\n",
    "torch.set_printoptions(precision=2)\n",
    "\n",
    "%autoreload 2"
   ]
  },
  {
   "cell_type": "markdown",
   "metadata": {},
   "source": [
    "#### Define the cost and the correpsonding pdf function"
   ]
  },
  {
   "cell_type": "code",
   "execution_count": 2,
   "metadata": {},
   "outputs": [],
   "source": [
    "n=20\n",
    "pdf, cost =  Rosenbrock_nD(n=n,alpha=0.01) # n>=4"
   ]
  },
  {
   "cell_type": "markdown",
   "metadata": {},
   "source": [
    "#### Define the domain and the discretization"
   ]
  },
  {
   "cell_type": "code",
   "execution_count": 3,
   "metadata": {},
   "outputs": [],
   "source": [
    "# Define the domain of the function\n",
    "\n",
    "L = 2 # [-L,L]^n is the domain of the function\n",
    "\n",
    "# domain of task params: domain of coefficients a and b in Rosenbrock_4D\n",
    "# Note: a should in (-sqrt(L), sqrt(L)) \n",
    "domain_task = [torch.linspace(-np.sqrt(L),np.sqrt(L),500)]+[torch.linspace(50,150,500)] \n",
    "# domain of decison varibales\n",
    "domain_decision = [torch.linspace(-L,L,500)]*(n)\n",
    "domain = domain_task+domain_decision"
   ]
  },
  {
   "cell_type": "markdown",
   "metadata": {},
   "source": [
    "### Fit the TT-Model"
   ]
  },
  {
   "cell_type": "code",
   "execution_count": 4,
   "metadata": {},
   "outputs": [],
   "source": [
    "ttgo = TTGO(domain=domain,pdf=pdf, cost=cost)"
   ]
  },
  {
   "cell_type": "code",
   "execution_count": 5,
   "metadata": {},
   "outputs": [
    {
     "name": "stdout",
     "output_type": "stream",
     "text": [
      "cross device is cpu\n",
      "Cross-approximation over a 22D domain containing 2.38419e+59 grid points:\n",
      "Note: The algorithm converges as the ratio tt-new-norm/tt-old-norm settles to 1. For TTGO, the convergence is not important, just keep iterating as long as the ratio > 1\n",
      "iter: 0  | tt-new-norm/tt-old-norm: 2.788e-06 | time:   0.1291 | largest rank:   1\n",
      "iter: 1  | tt-new-norm/tt-old-norm: 7.800e+00 | time:   0.5833 | largest rank:   4\n",
      "iter: 2  | tt-new-norm/tt-old-norm: 1.032e+00 | time:   1.1227 | largest rank:   5\n",
      "iter: 3  | tt-new-norm/tt-old-norm: 5.610e-01 | time:   1.6851 | largest rank:   5\n",
      "iter: 4  | tt-new-norm/tt-old-norm: 1.398e+00 | time:   2.2155 | largest rank:   5\n",
      "iter: 5  | tt-new-norm/tt-old-norm: 8.894e-01 | time:   2.7614 | largest rank:   5\n",
      "iter: 6  | tt-new-norm/tt-old-norm: 1.017e+00 | time:   3.2878 | largest rank:   5\n",
      "iter: 7  | tt-new-norm/tt-old-norm: 9.095e-01 | time:   3.8368 | largest rank:   5\n",
      "iter: 8  | tt-new-norm/tt-old-norm: 1.029e+00 | time:   4.3766 | largest rank:   5\n",
      "iter: 9  | tt-new-norm/tt-old-norm: 1.011e+00 | time:   4.9241 | largest rank:   5 <- max_iter was reached: 10\n",
      "Did 4407500 function evaluations, which took 1.83s (2.408e+06 evals/s)\n",
      "\n"
     ]
    }
   ],
   "source": [
    "ttgo.cross_approximate(rmax=5, nswp=10, kickrank=3, eps=1e-6)"
   ]
  },
  {
   "cell_type": "code",
   "execution_count": 6,
   "metadata": {},
   "outputs": [
    {
     "name": "stdout",
     "output_type": "stream",
     "text": [
      "TT-Rank:  tensor([1, 2, 5, 5, 5, 5, 5, 5, 5, 5, 5, 5, 5, 5, 5, 5, 5, 5, 5, 5, 5, 5, 1])\n"
     ]
    }
   ],
   "source": [
    "sites_task = torch.tensor([0,1]) # sites to be conditioned upon (task-params)\n",
    "ttgo.set_sites(sites_task)\n",
    "ttgo.round(eps=1e-3)\n",
    "print(\"TT-Rank: \", ttgo.tt_model.ranks_tt)"
   ]
  },
  {
   "cell_type": "markdown",
   "metadata": {},
   "source": [
    "#### Specify task parameters"
   ]
  },
  {
   "cell_type": "code",
   "execution_count": 7,
   "metadata": {},
   "outputs": [],
   "source": [
    "a = 0; b = 100;\n",
    "x_task = torch.tensor([a,b]).view(1,-1) #given task-parameters"
   ]
  },
  {
   "cell_type": "markdown",
   "metadata": {},
   "source": [
    "### Sample from TT-Model"
   ]
  },
  {
   "cell_type": "code",
   "execution_count": 10,
   "metadata": {},
   "outputs": [],
   "source": [
    "n_samples_tt = 5\n",
    "\n",
    "samples, samples_idx = ttgo.sample(n_samples=n_samples_tt, x_task=x_task, alpha=0.5, norm=1) \n"
   ]
  },
  {
   "cell_type": "markdown",
   "metadata": {},
   "source": [
    "### Choose the best sample as an estimate for optima (initial guess)"
   ]
  },
  {
   "cell_type": "code",
   "execution_count": 11,
   "metadata": {},
   "outputs": [],
   "source": [
    "best_estimate = ttgo.choose_best_sample(samples)\n",
    "top_k_estimate = ttgo.choose_top_k_sample(samples,k=1) # for multiple solutions"
   ]
  },
  {
   "cell_type": "markdown",
   "metadata": {},
   "source": [
    "##### Fine-tune the estimate using gradient-based optimization"
   ]
  },
  {
   "cell_type": "code",
   "execution_count": 12,
   "metadata": {},
   "outputs": [],
   "source": [
    "ttgo_optimized,_ = ttgo.optimize(best_estimate)\n",
    "\n",
    "ttgo_optimized_k = 1*top_k_estimate\n",
    "for i, x in enumerate(ttgo_optimized_k):\n",
    "    ttgo_optimized_k[i],_ = ttgo.optimize(x)\n"
   ]
  },
  {
   "cell_type": "code",
   "execution_count": 13,
   "metadata": {},
   "outputs": [
    {
     "name": "stdout",
     "output_type": "stream",
     "text": [
      "PDF at the estimated point(initial guess):  tensor([0.01])\n",
      "PDF at the TTGO Optima:  tensor([1.00])\n"
     ]
    }
   ],
   "source": [
    "print(\"PDF at the estimated point(initial guess): \", pdf(best_estimate))\n",
    "print(\"PDF at the TTGO Optima: \", pdf(ttgo_optimized))"
   ]
  },
  {
   "cell_type": "code",
   "execution_count": 14,
   "metadata": {},
   "outputs": [
    {
     "name": "stdout",
     "output_type": "stream",
     "text": [
      "Estimated Optima:  tensor([[-2.83e-03,  9.99e+01, -7.66e-01,  9.10e-01,  1.11e+00,  9.74e-01,\n",
      "          6.37e-01,  2.20e-01,  2.53e-01,  2.53e-01,  4.01e-03, -2.36e-01,\n",
      "          5.21e-02, -5.17e-01,  3.61e-02,  7.90e-01, -6.61e-01,  8.14e-01,\n",
      "         -2.69e-01, -2.00e-02,  8.42e-02,  3.09e-01]])\n",
      "Optima from TTGO:  tensor([[-2.83e-03,  9.99e+01, -1.95e-02,  8.09e-04,  4.06e-04,  1.53e-04,\n",
      "          1.97e-04, -3.36e-04, -7.23e-05, -3.59e-05, -5.69e-07, -1.52e-05,\n",
      "         -9.01e-08, -1.04e-04, -2.93e-05, -5.60e-05, -4.27e-05,  7.92e-06,\n",
      "          3.55e-05, -2.10e-05,  2.33e-05, -7.57e-05]])\n"
     ]
    }
   ],
   "source": [
    "print(\"Estimated Optima: \", best_estimate)\n",
    "print(\"Optima from TTGO: \", ttgo_optimized)"
   ]
  },
  {
   "cell_type": "markdown",
   "metadata": {},
   "source": [
    "#### Global Optima from Analytical Evaluation"
   ]
  },
  {
   "cell_type": "code",
   "execution_count": 15,
   "metadata": {},
   "outputs": [
    {
     "name": "stdout",
     "output_type": "stream",
     "text": [
      "Global Optima (analytical):  tensor([[  0, 100,   0,   0,   0,   0,   0,   0,   0,   0,   0,   0,   0,   0,\n",
      "           0,   0,   0,   0,   0,   0,   0,   0]])\n",
      "PDF at the gloabl optima:  tensor([1.])\n"
     ]
    }
   ],
   "source": [
    "global_optima = torch.tensor([ [a,b] +[a**(i%2+1) for i in range(n)]]).view(1,-1)\n",
    "print(\"Global Optima (analytical): \", global_optima )\n",
    "print(\"PDF at the gloabl optima: \", pdf(global_optima))"
   ]
  },
  {
   "cell_type": "code",
   "execution_count": null,
   "metadata": {},
   "outputs": [],
   "source": []
  }
 ],
 "metadata": {
  "kernelspec": {
   "display_name": "Python 3",
   "language": "python",
   "name": "python3"
  },
  "language_info": {
   "codemirror_mode": {
    "name": "ipython",
    "version": 3
   },
   "file_extension": ".py",
   "mimetype": "text/x-python",
   "name": "python",
   "nbconvert_exporter": "python",
   "pygments_lexer": "ipython3",
   "version": "3.8.5"
  }
 },
 "nbformat": 4,
 "nbformat_minor": 4
}
