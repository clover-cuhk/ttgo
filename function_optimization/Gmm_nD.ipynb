{
 "cells": [
  {
   "cell_type": "markdown",
   "metadata": {},
   "source": [
    "### Optimization of n-D Gaussian Mixture Model (un-normalized)\n",
    "\n",
    "\n",
    "$$ pdf(\\mathbf{x}) = \\sum_{k=1}^{K} c_k e^{-\\frac{||\\mathbf{x}-\\mathbf{\\mu}_k||^2}{s_k^2}} $$\n",
    "$$ cost(\\mathbf{x}) = 1-pdf(\\mathbf{x}) $$ \n",
    "\n",
    "Here, $\\mathbf{x} = (\\mathbf{x}_{task},\\mathbf{x}_{decision})$\n",
    "\n",
    "The global optima is known apriori (approximately): The centers of the GMM are likely to be the maxima (or comparable to the optima). \n",
    "\n",
    "GMM can be really low-rank. We show that TTGO is able to find the global optima consistently with a hand few of samples from the constructed tt-model of the above pdf. Moreover, we can playfully choose task paramters as some of the coordinates of any of the centers (mixture component) in the online phase. Then, we can check if we get back the corresponding center (mixture component) as the optima. A naive approach of sampling from uniform distribution to initialize a Netwon-type optimizer does not usually work for larger $n$ (try $n>10$ in this notebook). We use scipy's SLSQP to fine tune the initialization provided by TTGO and uniform distribution.\n",
    "\n",
    "Exercise:\n",
    "   - Choose one of the mixture components to have larger weight than others (so that we have a unique global optima) and see if TTGO can get this global optima\n",
    "   - Choose mutiple centers to have the same weight and higher than other centers (so that we have multiple global optima).Check if TTGO can get all of them\n",
    "   - Select arbitrary number of axes as task-parmaters and choose the first few coordinates of a center as its value. Do you get back this center as optima?\n",
    "\n",
    "Copyright (c) 2008 Idiap Research Institute, http://www.idiap.ch/\n",
    "    Written by Suhan Shetty <suhan.shetty@idiap.ch>,\n"
   ]
  },
  {
   "cell_type": "code",
   "execution_count": 1,
   "metadata": {},
   "outputs": [],
   "source": [
    "import torch\n",
    "torch.set_default_dtype(torch.float32)\n",
    "\n",
    "import numpy as np\n",
    "import sys\n",
    "sys.path.append('./fcn_opt')\n",
    "sys.path.append('../')\n",
    "\n",
    "from ttgo import TTGO\n",
    "from test_fcns import gmm\n",
    "from fcn_plotting_utils import plot_surf, plot_contour\n",
    "\n",
    "%load_ext autoreload\n",
    "np.set_printoptions(precision=2)\n",
    "torch.set_printoptions(precision=2)\n",
    "\n",
    "%autoreload 2"
   ]
  },
  {
   "cell_type": "markdown",
   "metadata": {},
   "source": [
    "#### Define the cost and the corresponding pdf"
   ]
  },
  {
   "cell_type": "code",
   "execution_count": 19,
   "metadata": {},
   "outputs": [
    {
     "name": "stdout",
     "output_type": "stream",
     "text": [
      "centers:  tensor([[-0.43,  0.82,  0.66, -1.01,  1.16,  0.18,  1.37, -0.24, -1.26,  0.50,\n",
      "          1.13, -1.42,  0.24,  1.26, -0.93, -1.20, -0.68, -0.75, -1.44, -1.29,\n",
      "         -0.59, -1.34, -0.67, -0.79, -1.06, -0.88,  1.15, -0.26,  0.08,  0.51],\n",
      "        [-0.43,  0.82,  0.66, -1.01,  1.16,  0.18,  1.37, -0.24, -1.26,  0.50,\n",
      "          1.13, -1.42,  0.24,  1.26, -0.93, -1.20, -0.68, -0.75, -1.44, -1.29,\n",
      "         -0.59, -1.34, -0.67, -0.79, -1.06, -0.88,  1.15, -0.26,  1.39,  0.27],\n",
      "        [-0.43,  0.82,  0.66, -1.01,  1.16,  0.18,  1.37, -0.24, -1.26,  0.50,\n",
      "          1.13, -1.42,  0.24,  1.26, -0.93, -1.20, -0.68, -0.75, -1.44, -1.29,\n",
      "         -0.59, -1.34, -0.67, -0.79, -1.06, -0.88,  1.15, -0.26,  1.40,  1.19]])\n",
      "\n",
      "PDF at centers:  tensor([0.44, 0.28, 0.32])\n",
      "Note: the center with the maximum pdf is the global optima\n"
     ]
    }
   ],
   "source": [
    "# Mixture of Gaussians (un-normalized)\n",
    "L = 2\n",
    "n = 30 # Dimension of the domain\n",
    "nmix = 3\n",
    "mx_coef = np.random.uniform(0,1,(nmix,))\n",
    "# mx_coef[0]=mx_coef[1]\n",
    "mx_coef = torch.from_numpy(mx_coef/np.sum(mx_coef))\n",
    "mu = torch.from_numpy(np.random.uniform(-0.75*L,0.75*L,(nmix,n)))\n",
    "\n",
    "mu[:,:-2] = mu[0,:-2] # for visualization, make the first (n-2) coordinates same (so that we can have it as task param)\n",
    "\n",
    "pdf, cost = gmm(n=n,nmix=nmix,L=1,mx_coef=mx_coef,mu=mu,s=0.1)\n",
    "print(\"centers: \",mu)\n",
    "print(\"\\nPDF at centers: \", pdf(mu))\n",
    "print(\"Note: the center with the maximum pdf is the global optima\")\n",
    "\n"
   ]
  },
  {
   "cell_type": "markdown",
   "metadata": {},
   "source": [
    "#### Define the domain and the discretization"
   ]
  },
  {
   "cell_type": "code",
   "execution_count": 20,
   "metadata": {},
   "outputs": [],
   "source": [
    "# Define the domain of the function\n",
    "domain = [torch.linspace(-L,L,100)]*(n)"
   ]
  },
  {
   "cell_type": "markdown",
   "metadata": {},
   "source": [
    "### Fit the TT-Model"
   ]
  },
  {
   "cell_type": "code",
   "execution_count": 21,
   "metadata": {},
   "outputs": [],
   "source": [
    "ttgo = TTGO(domain=domain,pdf=pdf, cost=cost)"
   ]
  },
  {
   "cell_type": "code",
   "execution_count": 22,
   "metadata": {},
   "outputs": [
    {
     "name": "stdout",
     "output_type": "stream",
     "text": [
      "cross device is cpu\n",
      "Cross-approximation over a 30D domain containing 1e+60 grid points:\n",
      "Note: The algorithm converges as the ratio tt-new-norm/tt-old-norm settles to 1. For TTGO, the convergence is not important, just keep iterating as long as the ratio > 1\n",
      "iter: 0  | tt-new-norm/tt-old-norm: 1.297e-12 | time:   0.1504 | largest rank:   1\n",
      "iter: 1  | tt-new-norm/tt-old-norm: 1.305e+00 | time:   0.7303 | largest rank:   4\n",
      "iter: 2  | tt-new-norm/tt-old-norm: 1.000e+00 | time:   1.3364 | largest rank:   5\n",
      "iter: 3  | tt-new-norm/tt-old-norm: 1.000e+00 | time:   1.9645 | largest rank:   5\n",
      "iter: 4  | tt-new-norm/tt-old-norm: 1.000e+00 | time:   2.5714 | largest rank:   5\n",
      "iter: 5  | tt-new-norm/tt-old-norm: 1.000e+00 | time:   3.1889 | largest rank:   5\n",
      "iter: 6  | tt-new-norm/tt-old-norm: 1.000e+00 | time:   3.8086 | largest rank:   5\n",
      "iter: 7  | tt-new-norm/tt-old-norm: 1.000e+00 | time:   4.4245 | largest rank:   5\n",
      "iter: 8  | tt-new-norm/tt-old-norm: 1.000e+00 | time:   5.0491 | largest rank:   5\n",
      "iter: 9  | tt-new-norm/tt-old-norm: 1.000e+00 | time:   5.6695 | largest rank:   5 <- max_iter was reached: 10\n",
      "Did 1228700 function evaluations, which took 0.626s (1.963e+06 evals/s)\n",
      "\n"
     ]
    }
   ],
   "source": [
    "ttgo.cross_approximate(rmax=5, nswp=10, kickrank=3)"
   ]
  },
  {
   "cell_type": "code",
   "execution_count": 23,
   "metadata": {},
   "outputs": [
    {
     "name": "stdout",
     "output_type": "stream",
     "text": [
      "TT-Rank:  tensor([1, 1, 1, 1, 1, 1, 1, 1, 1, 1, 1, 1, 1, 1, 1, 1, 1, 1, 1, 1, 1, 1, 1, 1,\n",
      "        1, 1, 1, 1, 1, 3, 1])\n"
     ]
    }
   ],
   "source": [
    "ttgo.round(eps=1e-6)\n",
    "print(\"TT-Rank: \", ttgo.tt_model.ranks_tt)"
   ]
  },
  {
   "cell_type": "markdown",
   "metadata": {},
   "source": [
    "### Sample from TT-Model"
   ]
  },
  {
   "cell_type": "code",
   "execution_count": 36,
   "metadata": {},
   "outputs": [],
   "source": [
    "n_samples_tt = 100\n",
    "alpha = 0.9\n",
    "samples, samples_idx = ttgo.sample(n_samples=n_samples_tt, alpha=alpha, norm=1) \n"
   ]
  },
  {
   "cell_type": "markdown",
   "metadata": {},
   "source": [
    "### Choose the best sample as an estimate for optima (initial guess)"
   ]
  },
  {
   "cell_type": "code",
   "execution_count": 37,
   "metadata": {},
   "outputs": [],
   "source": [
    "best_estimate = ttgo.choose_best_sample(samples)\n",
    "top_k_estimate = ttgo.choose_top_k_sample(samples,k=10) # for multiple solutions"
   ]
  },
  {
   "cell_type": "markdown",
   "metadata": {},
   "source": [
    "##### Fine-tune the estimate using gradient-based optimization"
   ]
  },
  {
   "cell_type": "code",
   "execution_count": 38,
   "metadata": {},
   "outputs": [],
   "source": [
    "ttgo_optimized,_ = ttgo.optimize(best_estimate)\n",
    "\n",
    "ttgo_optimized_k = 1*top_k_estimate\n",
    "for i, x in enumerate(ttgo_optimized_k):\n",
    "    ttgo_optimized_k[i],_ = ttgo.optimize(x)\n"
   ]
  },
  {
   "cell_type": "code",
   "execution_count": 39,
   "metadata": {},
   "outputs": [
    {
     "name": "stdout",
     "output_type": "stream",
     "text": [
      "PDF at the estimated point(initial guess):  tensor([0.17])\n",
      "PDF at the TTGO Optima:  tensor([0.32])\n"
     ]
    }
   ],
   "source": [
    "print(\"PDF at the estimated point(initial guess): \", pdf(best_estimate))\n",
    "print(\"PDF at the TTGO Optima: \", pdf(ttgo_optimized))"
   ]
  },
  {
   "cell_type": "code",
   "execution_count": 40,
   "metadata": {},
   "outputs": [
    {
     "name": "stdout",
     "output_type": "stream",
     "text": [
      "Estimated Optima:  tensor([[-0.46,  0.79,  0.51, -1.03,  1.07,  0.18,  1.39, -0.30, -1.47,  0.63,\n",
      "          1.15, -1.47,  0.22,  1.27, -1.03, -1.23, -0.75, -0.79, -1.47, -1.35,\n",
      "         -0.55, -1.35, -0.59, -0.87, -1.11, -0.91,  1.07, -0.26,  1.31,  1.31]])\n",
      "Optima from TTGO:  tensor([[-0.43,  0.82,  0.66, -1.01,  1.16,  0.18,  1.37, -0.24, -1.26,  0.49,\n",
      "          1.13, -1.42,  0.24,  1.26, -0.93, -1.20, -0.68, -0.75, -1.44, -1.29,\n",
      "         -0.59, -1.34, -0.67, -0.79, -1.06, -0.88,  1.15, -0.26,  1.40,  1.12]])\n"
     ]
    }
   ],
   "source": [
    "print(\"Estimated Optima: \", best_estimate)\n",
    "print(\"Optima from TTGO: \", ttgo_optimized)"
   ]
  },
  {
   "cell_type": "markdown",
   "metadata": {},
   "source": [
    "### Compare with samples from uniform distribution (for initialization)"
   ]
  },
  {
   "cell_type": "code",
   "execution_count": 41,
   "metadata": {},
   "outputs": [
    {
     "name": "stdout",
     "output_type": "stream",
     "text": [
      "PDF at the estimated point(initial guess):  tensor([5.01e-100])\n",
      "PDF at the Optima:  tensor([5.01e-100])\n"
     ]
    }
   ],
   "source": [
    "n_samples_rand = 1000*n_samples_tt # Try increasing the number of samples! \n",
    "samples_rand,_ = ttgo.sample_random(n_samples=n_samples_rand)\n",
    "\n",
    "rand_best_estimate = ttgo.choose_best_sample(samples_rand)\n",
    "rand_optimized,_ = ttgo.optimize(rand_best_estimate, tol=1e-9)\n",
    "\n",
    "print(\"PDF at the estimated point(initial guess): \", pdf(rand_best_estimate))\n",
    "print(\"PDF at the Optima: \", pdf(rand_optimized))"
   ]
  },
  {
   "cell_type": "markdown",
   "metadata": {},
   "source": [
    "### Let us try to specify some of the variables as the task parmaters"
   ]
  },
  {
   "cell_type": "code",
   "execution_count": 42,
   "metadata": {},
   "outputs": [],
   "source": [
    "ttgo_2 = ttgo.clone()"
   ]
  },
  {
   "cell_type": "code",
   "execution_count": 43,
   "metadata": {},
   "outputs": [],
   "source": [
    "sites_task = torch.tensor([0,1]) # choose sites to be conditioned upon (task-params). set (0,n_i), 0<n_i<n \n",
    "ttgo_2.set_sites(sites_task)\n"
   ]
  },
  {
   "cell_type": "markdown",
   "metadata": {},
   "source": [
    "Set the task parameters as the first few coordinated of one of the centers of the mixtures"
   ]
  },
  {
   "cell_type": "code",
   "execution_count": 44,
   "metadata": {},
   "outputs": [
    {
     "name": "stdout",
     "output_type": "stream",
     "text": [
      "Task parameters:  tensor([[-0.43,  0.82,  0.66, -1.01,  1.16,  0.18,  1.37, -0.24, -1.26,  0.50,\n",
      "          1.13, -1.42,  0.24,  1.26, -0.93, -1.20, -0.68, -0.75, -1.44, -1.29,\n",
      "         -0.59, -1.34, -0.67, -0.79, -1.06, -0.88,  1.15, -0.26]])\n"
     ]
    }
   ],
   "source": [
    "k = torch.randint(low=0,high=nmix,size=(1,))[0] # choose a mixture component randomly\n",
    "x_task = mu[k,:-2].view(1,-1) \n",
    "print(\"Task parameters: \",x_task)"
   ]
  },
  {
   "cell_type": "code",
   "execution_count": 45,
   "metadata": {},
   "outputs": [
    {
     "name": "stdout",
     "output_type": "stream",
     "text": [
      "PDF at the estimated point(initial guess):  tensor([0.21])\n",
      "PDF at the TTGO Optima:  tensor([0.44])\n",
      "\n",
      "Estimated Optima:  tensor([[-0.42,  0.83,  0.59, -0.99,  1.19,  0.06,  1.56, -0.26, -1.31,  0.55,\n",
      "          1.15, -1.39,  0.14,  1.19, -0.91, -1.23, -0.63, -0.59, -1.23, -1.35,\n",
      "         -0.67, -1.35, -0.55, -0.95, -1.03, -0.79,  1.15, -0.22,  0.06,  0.59]])\n",
      "Optima from TTGO:  tensor([[-0.42,  0.83,  0.66, -1.02,  1.16,  0.18,  1.37, -0.24, -1.26,  0.49,\n",
      "          1.13, -1.42,  0.24,  1.26, -0.93, -1.20, -0.68, -0.75, -1.44, -1.29,\n",
      "         -0.59, -1.34, -0.67, -0.79, -1.06, -0.88,  1.15, -0.26,  0.08,  0.51]])\n"
     ]
    }
   ],
   "source": [
    "# Collect Samples\n",
    "n_samples_tt = 100\n",
    "samples, samples_idx = ttgo_2.sample(n_samples=n_samples_tt,x_task=x_task, alpha=0.9, norm=1) \n",
    "\n",
    "# Filter the smaples\n",
    "best_estimate = ttgo_2.choose_best_sample(samples)\n",
    "top_k_estimate = ttgo_2.choose_top_k_sample(samples,k=10) # for multiple solutions\n",
    "\n",
    "# Fine-tune\n",
    "\n",
    "ttgo_optimized, _ = ttgo_2.optimize(best_estimate)\n",
    "\n",
    "ttgo_optimized_k = 1*top_k_estimate\n",
    "for i, x in enumerate(ttgo_optimized_k):\n",
    "    ttgo_optimized_k[i], _ = ttgo.optimize(x)\n",
    "\n",
    "\n",
    "print(\"PDF at the estimated point(initial guess): \", pdf(best_estimate))\n",
    "print(\"PDF at the TTGO Optima: \", pdf(ttgo_optimized))\n",
    "\n",
    "print(\"\\nEstimated Optima: \", best_estimate)\n",
    "print(\"Optima from TTGO: \", ttgo_optimized)"
   ]
  },
  {
   "cell_type": "code",
   "execution_count": 46,
   "metadata": {},
   "outputs": [],
   "source": [
    "# Redefinig the function given the coefficients\n",
    "def cost_fcn(X):\n",
    "    X = torch.from_numpy(X)\n",
    "    X_ext = torch.empty(X.shape[0],len(domain))\n",
    "    X_ext[:,:-2] = x_task\n",
    "    X_ext[:,-2:] = X\n",
    "    cost_ = pdf(X_ext).numpy()\n",
    "    return cost_\n"
   ]
  },
  {
   "cell_type": "code",
   "execution_count": 47,
   "metadata": {},
   "outputs": [
    {
     "data": {
      "text/plain": [
       "[<matplotlib.lines.Line2D at 0x7f910403b0a0>]"
      ]
     },
     "execution_count": 47,
     "metadata": {},
     "output_type": "execute_result"
    },
    {
     "data": {
      "image/png": "[encoded data removed]",
      "text/plain": [
       "<Figure size 360x360 with 2 Axes>"
      ]
     },
     "metadata": {},
     "output_type": "display_data"
    }
   ],
   "source": [
    "data = samples[:,-2:]\n",
    "x = np.linspace(-L,L,500)\n",
    "y = np.linspace(-L,L,500)\n",
    "\n",
    "plt=plot_contour(x,y,cost_fcn,data=data, contour_scale=20, figsize=5, markersize=1,log_norm=False)\n",
    "plt.plot(ttgo_optimized[:,-2],ttgo_optimized[:,-1],'.r',markersize=10)\n",
    "# plt.xlabel(\"$y_{n_1-1}$\")\n",
    "# plt.ylabel(\"$y_{n_1}$\")\n",
    "\n",
    "# plt.savefig('gmm_n20_K5_s15_alpha10_ns1000_k10.png',pad_inches=0.01, dpi=300)\n"
   ]
  },
  {
   "cell_type": "code",
   "execution_count": null,
   "metadata": {},
   "outputs": [],
   "source": []
  },
  {
   "cell_type": "code",
   "execution_count": null,
   "metadata": {},
   "outputs": [],
   "source": []
  }
 ],
 "metadata": {
  "kernelspec": {
   "display_name": "Python 3",
   "language": "python",
   "name": "python3"
  },
  "language_info": {
   "codemirror_mode": {
    "name": "ipython",
    "version": 3
   },
   "file_extension": ".py",
   "mimetype": "text/x-python",
   "name": "python",
   "nbconvert_exporter": "python",
   "pygments_lexer": "ipython3",
   "version": "3.8.5"
  }
 },
 "nbformat": 4,
 "nbformat_minor": 4
}
