{
 "cells": [
  {
   "cell_type": "code",
   "execution_count": 1,
   "metadata": {},
   "outputs": [],
   "source": [
    "import torch\n",
    "import numpy as np\n",
    "import sys\n",
    "sys.path.append('./fcn_opt')\n",
    "sys.path.append('../')\n",
    "\n",
    "from ttgo import TTGO\n",
    "from test_fcns import sine_nD \n",
    "from fcn_plotting_utils import plot_surf, plot_contour\n",
    "\n",
    "%load_ext autoreload\n",
    "np.set_printoptions(precision=2)\n",
    "torch.set_printoptions(precision=2)\n",
    "\n",
    "%autoreload 2"
   ]
  },
  {
   "cell_type": "markdown",
   "metadata": {},
   "source": [
    "#### Define the cost and the correpsonding pdf function"
   ]
  },
  {
   "cell_type": "code",
   "execution_count": 6,
   "metadata": {},
   "outputs": [],
   "source": [
    "n=3\n",
    "pdf, cost =  sine_nD(n=n,alpha=1) # n>=4"
   ]
  },
  {
   "cell_type": "markdown",
   "metadata": {},
   "source": [
    "#### Define the domain and the discretization"
   ]
  },
  {
   "cell_type": "code",
   "execution_count": 7,
   "metadata": {},
   "outputs": [],
   "source": [
    "# Define the domain of the function\n",
    "\n",
    "L = 2 # [-L,L]^n is the domain of the function\n",
    "\n",
    "# domain of task params: domain of coefficients a and b in Rosenbrock_4D\n",
    "# Note: a should in (-sqrt(L), sqrt(L)) \n",
    "domain_task = [torch.linspace(-np.sqrt(L),np.sqrt(L),1000)]+[torch.linspace(50,150,1000)] \n",
    "# domain of decison varibales\n",
    "domain_decision = [torch.linspace(-L,L,1000)]*(n)\n",
    "domain = domain_task+domain_decision"
   ]
  },
  {
   "cell_type": "markdown",
   "metadata": {},
   "source": [
    "### Fit the TT-Model"
   ]
  },
  {
   "cell_type": "code",
   "execution_count": 8,
   "metadata": {},
   "outputs": [],
   "source": [
    "ttgo = TTGO(domain=domain,pdf=pdf,cost=cost)"
   ]
  },
  {
   "cell_type": "code",
   "execution_count": 9,
   "metadata": {},
   "outputs": [
    {
     "name": "stdout",
     "output_type": "stream",
     "text": [
      "cross device is cpu\n",
      "Cross-approximation over a 5D domain containing 1e+15 grid points:\n",
      "Note: The algorithm converges as the ratio tt-new-norm/tt-old-norm settles to 1. For TTGO, the convergence is not important, just keep iterating as long as the ratio > 1\n",
      "iter: 0 | tt-new-norm/tt-old-norm: 5.474e-01 | time:   0.0154 | largest rank:   1\n",
      "iter: 1 | tt-new-norm/tt-old-norm: 1.005e+00 | time:   0.0536 | largest rank:   4\n",
      "iter: 2 | tt-new-norm/tt-old-norm: 1.000e+00 | time:   0.1157 | largest rank:   7\n",
      "iter: 3 | tt-new-norm/tt-old-norm: 1.000e+00 | time:   0.2205 | largest rank:  10\n",
      "iter: 4 | tt-new-norm/tt-old-norm: 1.000e+00 | time:   0.3952 | largest rank:  13 <- max_iter was reached: 5\n",
      "Did 2115000 function evaluations, which took 0.2502s (8.453e+06 evals/s)\n",
      "\n"
     ]
    }
   ],
   "source": [
    "ttgo.cross_approximate(rmax=50, nswp=5, kickrank=3, eps=1e-6)"
   ]
  },
  {
   "cell_type": "code",
   "execution_count": 10,
   "metadata": {},
   "outputs": [
    {
     "name": "stdout",
     "output_type": "stream",
     "text": [
      "TT-Rank:  tensor([1, 5, 7, 6, 5, 1])\n"
     ]
    }
   ],
   "source": [
    "sites_task = torch.tensor([0,1,2]) # sites to be conditioned upon (task-params)\n",
    "ttgo.set_sites(sites_task)\n",
    "ttgo.round(eps=1e-9)\n",
    "print(\"TT-Rank: \", ttgo.tt_model.ranks_tt)"
   ]
  },
  {
   "cell_type": "markdown",
   "metadata": {},
   "source": [
    "#### Specify task parameters"
   ]
  },
  {
   "cell_type": "code",
   "execution_count": 11,
   "metadata": {},
   "outputs": [],
   "source": [
    "x_task = torch.tensor([1]*3).view(1,-1) #given task-parameters"
   ]
  },
  {
   "cell_type": "markdown",
   "metadata": {},
   "source": [
    "### Sample from TT-Model"
   ]
  },
  {
   "cell_type": "code",
   "execution_count": 12,
   "metadata": {},
   "outputs": [],
   "source": [
    "n_samples_tt = 50\n",
    "\n",
    "samples, samples_idx = ttgo.sample(n_samples=n_samples_tt, x_task=x_task, alpha=0.9, norm=1) \n"
   ]
  },
  {
   "cell_type": "markdown",
   "metadata": {},
   "source": [
    "### Choose the best sample as an estimate for optima (initial guess)"
   ]
  },
  {
   "cell_type": "code",
   "execution_count": 13,
   "metadata": {},
   "outputs": [],
   "source": [
    "best_estimate = ttgo.choose_best_sample(samples)\n",
    "top_k_estimate = ttgo.choose_top_k_sample(samples,k=10) # for multiple solutions"
   ]
  },
  {
   "cell_type": "markdown",
   "metadata": {},
   "source": [
    "##### Fine-tune the estimate using gradient-based optimization"
   ]
  },
  {
   "cell_type": "code",
   "execution_count": 14,
   "metadata": {},
   "outputs": [],
   "source": [
    "ttgo_optimized,_ = ttgo.optimize(best_estimate)\n",
    "\n",
    "ttgo_optimized_k = 1*top_k_estimate\n",
    "for i, x in enumerate(ttgo_optimized_k):\n",
    "    ttgo_optimized_k[i],_ = ttgo.optimize(x)\n"
   ]
  },
  {
   "cell_type": "code",
   "execution_count": 15,
   "metadata": {},
   "outputs": [
    {
     "name": "stdout",
     "output_type": "stream",
     "text": [
      "PDF at the estimated point(initial guess):  tensor([0.09])\n",
      "PDF at the TTGO Optima:  tensor([0.09])\n"
     ]
    }
   ],
   "source": [
    "print(\"PDF at the estimated point(initial guess): \", pdf(best_estimate))\n",
    "print(\"PDF at the TTGO Optima: \", pdf(ttgo_optimized))"
   ]
  },
  {
   "cell_type": "code",
   "execution_count": 16,
   "metadata": {},
   "outputs": [
    {
     "name": "stdout",
     "output_type": "stream",
     "text": [
      "Estimated Optima:  tensor([[ 1.00, 50.00,  1.00, -2.00, -2.00]])\n",
      "Optima from TTGO:  tensor([[ 1.00, 50.00,  1.00, -2.00, -2.00]])\n"
     ]
    }
   ],
   "source": [
    "print(\"Estimated Optima: \", best_estimate)\n",
    "print(\"Optima from TTGO: \", ttgo_optimized)"
   ]
  },
  {
   "cell_type": "markdown",
   "metadata": {},
   "source": [
    "### Compare with samples from uniform distribution (initialization)"
   ]
  },
  {
   "cell_type": "code",
   "execution_count": 17,
   "metadata": {},
   "outputs": [
    {
     "name": "stdout",
     "output_type": "stream",
     "text": [
      "PDF at the estimated point(initial guess):  tensor([0.09])\n",
      "PDF at the Optima:  tensor([0.09])\n"
     ]
    }
   ],
   "source": [
    "n_samples_rand = 10*n_samples_tt \n",
    "samples_rand,_ = ttgo.sample_random(n_samples=n_samples_rand,x_task=x_task)\n",
    "\n",
    "rand_best_estimate = ttgo.choose_best_sample(samples_rand)\n",
    "rand_optimized,_ = ttgo.optimize(rand_best_estimate)\n",
    "\n",
    "print(\"PDF at the estimated point(initial guess): \", pdf(rand_best_estimate))\n",
    "print(\"PDF at the Optima: \", pdf(rand_optimized))"
   ]
  }
 ],
 "metadata": {
  "kernelspec": {
   "display_name": "Python 3",
   "language": "python",
   "name": "python3"
  },
  "language_info": {
   "codemirror_mode": {
    "name": "ipython",
    "version": 3
   },
   "file_extension": ".py",
   "mimetype": "text/x-python",
   "name": "python",
   "nbconvert_exporter": "python",
   "pygments_lexer": "ipython3",
   "version": "3.8.5"
  }
 },
 "nbformat": 4,
 "nbformat_minor": 4
}
