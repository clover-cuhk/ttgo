{
 "cells": [
  {
   "cell_type": "markdown",
   "metadata": {},
   "source": [
    "### Optimization of 2-D Himmelblaue function for varied coefficients\n",
    "##### Reference: https://en.wikipedia.org/wiki/Himmelblau%27s_function\n",
    "$$ cost(a,b,x,y) =  (x^2+y-a)^2 + (x+y^2-b)^2 ,$$\n",
    "$$pdf(a,b,x,y) = e^{-cost(a,b,x,y)}$$ \n",
    "\n",
    "Here, $\\mathbf{x}_{task}=(a,b)$ and $\\mathbf{x}_{decision} = (x,y)$\n",
    "\n",
    "Depending on the choice of task-parameters $(a,b)$ there could be several global optima.\n",
    "\n",
    "We show that TTGO is able to find the multiple global optima consistently with a hand few of samples from the constructed tt-model of the above pdf (constructed offline) for various selection of $\\mathbf{x}_{task}=(a,b)$ in the online phase.  We use scipy's SLSQP to fine tune the initialization. \n",
    "\n",
    "Condition on different values of $\\mathbf{x}_{task}=(a,b)$ to test the model. Watch out for the multimodality in the solutions of TTGO!\n",
    "\n",
    "Copyright (c) 2008 Idiap Research Institute, http://www.idiap.ch/\n",
    "    Written by Suhan Shetty <suhan.shetty@idiap.ch>,\n"
   ]
  },
  {
   "cell_type": "code",
   "execution_count": 1,
   "metadata": {},
   "outputs": [],
   "source": [
    "import torch\n",
    "import numpy as np\n",
    "import sys\n",
    "sys.path.append('./fcn_opt')\n",
    "sys.path.append('../')\n",
    "\n",
    "from ttgo import TTGO\n",
    "from test_fcns import Himmelblaue_4D \n",
    "from fcn_plotting_utils import plot_surf, plot_contour\n",
    "\n",
    "%load_ext autoreload\n",
    "np.set_printoptions(precision=3)\n",
    "%autoreload 2"
   ]
  },
  {
   "cell_type": "markdown",
   "metadata": {},
   "source": [
    "### Define the function"
   ]
  },
  {
   "cell_type": "code",
   "execution_count": 2,
   "metadata": {},
   "outputs": [],
   "source": [
    "pdf, cost =  Himmelblaue_4D(alpha=1)"
   ]
  },
  {
   "cell_type": "markdown",
   "metadata": {},
   "source": [
    "### Define the domain and the discretization"
   ]
  },
  {
   "cell_type": "code",
   "execution_count": 3,
   "metadata": {},
   "outputs": [],
   "source": [
    "# Define the domain of the function\n",
    "L = 5 # [-L,L]^2 is the domain of the function\n",
    "# domain of task params: domain of coefficients a and b in Himmelblaue \n",
    "domain_task = [torch.linspace(1,15,500)]+[torch.linspace(1,15,500)] \n",
    "# domain of decision variables\n",
    "domain_decision = [torch.linspace(-L,L,500)]*2 # domain of x-y coordinates \n",
    "domain = domain_task+domain_decision"
   ]
  },
  {
   "cell_type": "markdown",
   "metadata": {},
   "source": [
    "### Fit the TT-Model"
   ]
  },
  {
   "cell_type": "code",
   "execution_count": 4,
   "metadata": {},
   "outputs": [],
   "source": [
    "ttgo = TTGO(domain=domain,pdf=pdf,cost=cost)"
   ]
  },
  {
   "cell_type": "code",
   "execution_count": 5,
   "metadata": {},
   "outputs": [
    {
     "name": "stdout",
     "output_type": "stream",
     "text": [
      "cross device is cpu\n",
      "Cross-approximation over a 4D domain containing 6.25e+10 grid points:\n",
      "Note: The algorithm converges as the ratio tt-new-norm/tt-old-norm settles to 1. For TTGO, the convergence is not important, just keep iterating as long as the ratio > 1\n",
      "iter: 0  | tt-new-norm/tt-old-norm: 1.753e-03 | time:   0.0103 | largest rank:   1\n",
      "iter: 1  | tt-new-norm/tt-old-norm: 3.419e+00 | time:   0.0265 | largest rank:   4\n",
      "iter: 2  | tt-new-norm/tt-old-norm: 1.217e+00 | time:   0.0495 | largest rank:   7\n",
      "iter: 3  | tt-new-norm/tt-old-norm: 1.360e+00 | time:   0.0709 | largest rank:  10\n",
      "iter: 4  | tt-new-norm/tt-old-norm: 1.292e+00 | time:   0.0993 | largest rank:  13\n",
      "iter: 5  | tt-new-norm/tt-old-norm: 1.213e+00 | time:   0.1384 | largest rank:  16\n",
      "iter: 6  | tt-new-norm/tt-old-norm: 1.177e+00 | time:   0.2078 | largest rank:  19\n",
      "iter: 7  | tt-new-norm/tt-old-norm: 1.127e+00 | time:   0.2839 | largest rank:  22\n",
      "iter: 8  | tt-new-norm/tt-old-norm: 1.055e+00 | time:   0.3883 | largest rank:  25\n",
      "iter: 9  | tt-new-norm/tt-old-norm: 1.007e+00 | time:   0.5159 | largest rank:  28\n",
      "iter: 10 | tt-new-norm/tt-old-norm: 1.060e+00 | time:   0.6730 | largest rank:  31\n",
      "iter: 11 | tt-new-norm/tt-old-norm: 1.079e+00 | time:   0.8539 | largest rank:  34\n",
      "iter: 12 | tt-new-norm/tt-old-norm: 1.041e+00 | time:   1.0919 | largest rank:  37\n",
      "iter: 13 | tt-new-norm/tt-old-norm: 1.023e+00 | time:   1.3606 | largest rank:  40\n",
      "iter: 14 | tt-new-norm/tt-old-norm: 1.041e+00 | time:   1.7082 | largest rank:  43\n",
      "iter: 15 | tt-new-norm/tt-old-norm: 1.040e+00 | time:   2.0807 | largest rank:  46\n",
      "iter: 16 | tt-new-norm/tt-old-norm: 1.035e+00 | time:   2.5110 | largest rank:  49\n",
      "iter: 17 | tt-new-norm/tt-old-norm: 1.021e+00 | time:   3.0290 | largest rank:  52\n",
      "iter: 18 | tt-new-norm/tt-old-norm: 1.022e+00 | time:   3.6192 | largest rank:  55\n",
      "iter: 19 | tt-new-norm/tt-old-norm: 1.010e+00 | time:   4.2755 | largest rank:  58 <- max_iter was reached: 20\n",
      "Did 47665000 function evaluations, which took 1.428s (3.339e+07 evals/s)\n",
      "\n"
     ]
    }
   ],
   "source": [
    "ttgo.cross_approximate(rmax=100, nswp=20, kickrank=3)"
   ]
  },
  {
   "cell_type": "code",
   "execution_count": 6,
   "metadata": {},
   "outputs": [
    {
     "name": "stdout",
     "output_type": "stream",
     "text": [
      "TT-Rank:  tensor([ 1, 39, 58, 57,  1])\n"
     ]
    }
   ],
   "source": [
    "sites_task = torch.tensor([0,1]) # sites to be consitioned upon (task-params)\n",
    "ttgo.set_sites(sites_task)\n",
    "ttgo.round(eps=1e-9)\n",
    "print(\"TT-Rank: \", ttgo.tt_model.ranks_tt)"
   ]
  },
  {
   "cell_type": "code",
   "execution_count": 7,
   "metadata": {},
   "outputs": [],
   "source": [
    "# torch.save([ttgo.tt_model,domain],'himmel4D.pickle')"
   ]
  },
  {
   "cell_type": "code",
   "execution_count": 8,
   "metadata": {},
   "outputs": [
    {
     "data": {
      "text/plain": [
       "'/home/suhan/anaconda3/lib/python3.8/site-packages/tntorch/__init__.py'"
      ]
     },
     "execution_count": 8,
     "metadata": {},
     "output_type": "execute_result"
    }
   ],
   "source": [
    "import tntorch as tnt\n",
    "tnt.__file__"
   ]
  },
  {
   "cell_type": "markdown",
   "metadata": {},
   "source": [
    "### Sample from TT-Model"
   ]
  },
  {
   "cell_type": "code",
   "execution_count": 9,
   "metadata": {},
   "outputs": [],
   "source": [
    "a=14; b=2.\n",
    "x_task = torch.tensor([a,b]).view(1,-1) #given task-parameters\n",
    "n_samples_tt = 100\n",
    "samples, samples_idx = ttgo.sample(n_samples=n_samples_tt, x_task=x_task.view(1,-1), alpha=0, norm=1) "
   ]
  },
  {
   "cell_type": "markdown",
   "metadata": {},
   "source": [
    "### Choose the best sample as an estimate for optima"
   ]
  },
  {
   "cell_type": "code",
   "execution_count": 10,
   "metadata": {},
   "outputs": [],
   "source": [
    "best_estimate = ttgo.choose_best_sample(samples)\n",
    "top_k_estimate = ttgo.choose_top_k_sample(samples,k=50) # for multiple solutions"
   ]
  },
  {
   "cell_type": "markdown",
   "metadata": {},
   "source": [
    "##### Fine-tune the estimate using gradient-based optimization"
   ]
  },
  {
   "cell_type": "code",
   "execution_count": 11,
   "metadata": {},
   "outputs": [],
   "source": [
    "ttgo_optimized, _ = ttgo.optimize(best_estimate)\n",
    "\n",
    "ttgo_optimized_k = 1*top_k_estimate\n",
    "for i, x in enumerate(ttgo_optimized_k):\n",
    "    ttgo_optimized_k[i], _ = ttgo.optimize(x)\n"
   ]
  },
  {
   "cell_type": "code",
   "execution_count": 12,
   "metadata": {},
   "outputs": [
    {
     "name": "stdout",
     "output_type": "stream",
     "text": [
      "PDF at the estimated point:  tensor([0.9967])\n",
      "PDF at the optima:  tensor([1.0000])\n"
     ]
    }
   ],
   "source": [
    "print(\"PDF at the estimated point: \", pdf(best_estimate))\n",
    "print(\"PDF at the optima: \", pdf(ttgo_optimized))"
   ]
  },
  {
   "cell_type": "code",
   "execution_count": 13,
   "metadata": {},
   "outputs": [
    {
     "name": "stdout",
     "output_type": "stream",
     "text": [
      "Estimated Optima:  tensor([[13.9900,  2.0100, -4.0581, -2.4749]])\n",
      "Optima:  tensor([[13.9900,  2.0100, -4.0560, -2.4627]])\n"
     ]
    }
   ],
   "source": [
    "print(\"Estimated Optima: \", best_estimate)\n",
    "print(\"Optima: \", ttgo_optimized)"
   ]
  },
  {
   "cell_type": "markdown",
   "metadata": {},
   "source": [
    "### Visualization"
   ]
  },
  {
   "cell_type": "code",
   "execution_count": 14,
   "metadata": {},
   "outputs": [],
   "source": [
    "# Redefinig the function given the coefficients\n",
    "def cost_fcn(X):\n",
    "    X = torch.from_numpy(X)\n",
    "    X_ext = torch.empty(X.shape[0],4)\n",
    "    X_ext[:,:2] = x_task\n",
    "    X_ext[:,2:] = X\n",
    "    return cost(X_ext).numpy()"
   ]
  },
  {
   "cell_type": "code",
   "execution_count": 15,
   "metadata": {},
   "outputs": [
    {
     "data": {
      "text/plain": [
       "[<matplotlib.lines.Line2D at 0x7f3ac0fdaa00>]"
      ]
     },
     "execution_count": 15,
     "metadata": {},
     "output_type": "execute_result"
    },
    {
     "data": {
      "image/png": "[encoded data removed]",
      "text/plain": [
       "<Figure size 432x288 with 2 Axes>"
      ]
     },
     "metadata": {},
     "output_type": "display_data"
    }
   ],
   "source": [
    "x = np.linspace(-L,L,200)\n",
    "y = np.linspace(-L,L,200)\n",
    "data = samples[:,2:]\n",
    "\n",
    "plt=plot_contour(x,y,cost_fcn,data=data, contour_scale=1000, figsize=10, markersize=1)\n",
    "# plt.plot(ttgo_optimized[:,2],ttgo_optimized[:,3],'*r',markersize=10)\n",
    "plt.plot(ttgo_optimized_k[:,2],ttgo_optimized_k[:,3],'.r',markersize=10)\n",
    "# plt.legend([\"samples\",\"optima\"])\n",
    "# plt.title(r\"Himmelblau: $cost=(x^2+y-{})^2+(x+y^2-{})^2$\".format(a,b))\n",
    "# plt.savefig('Himmelblau4D_a13_b5_alpha0_ns1000_k10.png',pad_inches=0.01, dpi=300)\n",
    "# plt.plot(gott_top_k_estimate[:,2],gott_top_k_estimate[:,3],'*r',markersize=8)"
   ]
  },
  {
   "cell_type": "code",
   "execution_count": 16,
   "metadata": {},
   "outputs": [],
   "source": [
    "# plt = plot_surf(x,y,cost_fcn,data=data,zlim=(0,2000),figsize=10, view_angle=(45,45),markersize=3)"
   ]
  },
  {
   "cell_type": "code",
   "execution_count": 17,
   "metadata": {},
   "outputs": [
    {
     "data": {
      "text/plain": [
       "'/home/suhan/anaconda3/lib/python3.8/site-packages/tntorch/__init__.py'"
      ]
     },
     "execution_count": 17,
     "metadata": {},
     "output_type": "execute_result"
    }
   ],
   "source": [
    "import tntorch\n",
    "tntorch.__file__"
   ]
  },
  {
   "cell_type": "code",
   "execution_count": null,
   "metadata": {},
   "outputs": [],
   "source": []
  }
 ],
 "metadata": {
  "kernelspec": {
   "display_name": "Python 3",
   "language": "python",
   "name": "python3"
  },
  "language_info": {
   "codemirror_mode": {
    "name": "ipython",
    "version": 3
   },
   "file_extension": ".py",
   "mimetype": "text/x-python",
   "name": "python",
   "nbconvert_exporter": "python",
   "pygments_lexer": "ipython3",
   "version": "3.8.5"
  }
 },
 "nbformat": 4,
 "nbformat_minor": 4
}
