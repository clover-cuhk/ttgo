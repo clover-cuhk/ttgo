{
 "cells": [
  {
   "cell_type": "markdown",
   "metadata": {},
   "source": [
    "Various reaching tasks with planar manipulator modeled in single notebook\n",
    "\n",
    "Copyright (c) 2008 Idiap Research Institute, http://www.idiap.ch/\n",
    "    Written by Suhan Shetty <suhan.shetty@idiap.ch>,\n"
   ]
  },
  {
   "cell_type": "code",
   "execution_count": 1,
   "metadata": {},
   "outputs": [],
   "source": [
    "%load_ext autoreload\n",
    "%autoreload 2\n",
    "import torch\n",
    "import numpy as np \n",
    "\n",
    "from planar_manipulator import PlanarManipulator\n",
    "from plot_utils import plot_chain\n",
    "\n",
    "np.set_printoptions(3, suppress=True)\n",
    "torch.set_printoptions(3, sci_mode=False)\n",
    "\n",
    "import sys\n",
    "sys.path.append('../')\n",
    "from ttgo import TTGO\n",
    "from cost_utils import PlanarManipulatorCost\n",
    "from utils import Point2PointMotion\n",
    "\n",
    "import warnings\n",
    "warnings.filterwarnings('ignore')\n",
    "# device =  torch.device(\"cuda\" if torch.cuda.is_available() else \"cpu\")\n",
    "device = 'cpu'"
   ]
  },
  {
   "cell_type": "code",
   "execution_count": 2,
   "metadata": {},
   "outputs": [],
   "source": [
    "file_name = None # trained model"
   ]
  },
  {
   "cell_type": "code",
   "execution_count": 3,
   "metadata": {},
   "outputs": [],
   "source": [
    "# Define the robot\n",
    "mp = 0 # motion planning type (see next cell)\n",
    "\n",
    "n_joints = 2\n",
    "link_lengths = torch.tensor([1./n_joints]*n_joints)\n",
    "max_theta = torch.pi\n",
    "min_theta = -1*max_theta\n",
    "n_kp = 10;\n",
    "dt = 0.02;\n",
    "d0_x = 50; d0_theta = 100; d0_w = 50;\n",
    "# Define the environment and the task (Cost function)\n",
    "\n",
    "x_obst = [torch.tensor([-0.35,-0.25]),torch.tensor([-0.95,-0.])]#,torch.tensor([0.5,0.])]\n",
    "r_obst = [0.1]*2\n",
    "margin=0.02\n",
    "w_goal= 0.4; w_obst=0.4; w_ee=0.15; w_control=0.05;\n",
    "b_goal=0.1;b_obst=1; b_ee=1; b_control=1.;\n",
    "\n",
    "theta_0 = torch.tensor([2.1*torch.pi/4,-1.5*torch.pi/4]).view(1,-1)\n",
    "theta_3 = 1*theta_0\n",
    "\n",
    "K=2\n",
    "\n",
    "robot = PlanarManipulator(n_joints=n_joints,link_lengths=link_lengths,max_theta=max_theta,n_kp=n_kp, device='cpu')\n",
    "bounds = [robot.min_config, robot.max_config]\n",
    "p2p_motion = Point2PointMotion(n=n_joints,dt=dt,K=K,basis='rbf',bounds=bounds)\n",
    "costPlanarManipulator = PlanarManipulatorCost(robot,p2p_motion=p2p_motion,x_obst=x_obst,r_obst=r_obst, margin=margin,\n",
    "                                              w_goal=w_goal,w_obst=w_obst,w_ee=w_ee, w_control=w_control,\n",
    "                                              b_goal=b_goal, b_obst=b_obst,b_ee=b_ee, b_control=b_control)"
   ]
  },
  {
   "cell_type": "markdown",
   "metadata": {},
   "source": [
    "Define the domain and the cost functions"
   ]
  },
  {
   "cell_type": "code",
   "execution_count": 4,
   "metadata": {},
   "outputs": [],
   "source": [
    "# Pick and place location (via-points: x_1 and x_2)\n",
    "x_min_place = -0.75; x_max_place = -0.5;\n",
    "y_min_place = -0.5; y_max_place = 0.5;\n",
    "\n",
    "x_min_pick =  0.5; x_max_pick = 0.75;\n",
    "y_min_pick = -0.5; y_max_pick = 0.5;\n",
    "\n",
    "d0_y = int(d0_x/5);\n",
    "domain_x1 = [torch.linspace(x_min_pick,x_max_pick,d0_x),\n",
    "            torch.linspace(y_min_pick,y_max_pick,d0_y)]\n",
    "domain_x2= [torch.linspace(x_min_place,x_max_place,d0_x),\n",
    "            torch.linspace(y_min_place,y_max_place,d0_y)]\n",
    "\n",
    "domain_theta = [torch.linspace(min_theta, max_theta,d0_theta)]*n_joints\n",
    "domain_w = [torch.linspace(min_theta,max_theta,d0_w)]*(K*n_joints)\n",
    "\n",
    "if mp==3: # 2-via points and initial and final config given\n",
    "    task = 'via2'\n",
    "    def cost(x):\n",
    "        return costPlanarManipulator.cost_j2p2p2j(x,theta_0,theta_3)[:,0]\n",
    "\n",
    "    def cost_to_print(x):\n",
    "        return costPlanarManipulator.cost_j2p2p2j(x,theta_0,theta_3)\n",
    "\n",
    "    domain_task = domain_x1 + domain_x2 \n",
    "    domain_decision =  domain_theta*2+ domain_w*3\n",
    "\n",
    "elif mp==0: # only target point is given\n",
    "    task = 'reaching'\n",
    "    def cost(x):\n",
    "        x = x.to(device)\n",
    "        return costPlanarManipulator.cost_j2p(x,theta_0)[:,0]\n",
    "\n",
    "    def cost_to_print(x):\n",
    "        return costPlanarManipulator.cost_j2p(x,theta_0)\n",
    "\n",
    "    domain_task = domain_x1\n",
    "    domain_decision = domain_theta + domain_w\n",
    "    \n",
    "\n",
    "\n",
    "def pdf(x):\n",
    "    return torch.exp(-cost(x)**2)\n",
    "\n",
    "\n",
    "domain = domain_task+domain_decision\n"
   ]
  },
  {
   "cell_type": "code",
   "execution_count": 5,
   "metadata": {},
   "outputs": [],
   "source": [
    "ttgo = TTGO(domain=domain,pdf=pdf,cost=cost,device=device)"
   ]
  },
  {
   "cell_type": "code",
   "execution_count": 6,
   "metadata": {},
   "outputs": [
    {
     "name": "stdout",
     "output_type": "stream",
     "text": [
      "cross device is cpu\n",
      "Cross-approximation over a 8D domain containing 3.125e+13 grid points:\n",
      "Note: The algorithm converges as the ratio tt-new-norm/tt-old-norm settles to 1. For TTGO, the convergence is not important, just keep iterating as long as the ratio > 1\n",
      "iter: 0 | tt-new-norm/tt-old-norm: 2.008e-03 | time:   0.3031 | largest rank:   1\n",
      "iter: 1 | tt-new-norm/tt-old-norm: 2.065e+01 | time:   4.2146 | largest rank:   4\n",
      "iter: 2 | tt-new-norm/tt-old-norm: 1.241e+00 | time:  16.3734 | largest rank:   7\n",
      "iter: 3 | tt-new-norm/tt-old-norm: 1.180e+00 | time:  43.7125 | largest rank:  10\n",
      "iter: 4 | tt-new-norm/tt-old-norm: 1.099e+00 | time:  90.5204 | largest rank:  13 <- max_iter was reached: 5\n",
      "Did 246450 function evaluations, which took 90.29s (2729 evals/s)\n",
      "\n"
     ]
    }
   ],
   "source": [
    "# Either load a trained model or train a new model:\n",
    "if not (file_name is None):\n",
    "    # Load the trained model and the system params:\n",
    "    model = torch.load(file_name)\n",
    "    ttgo.tt_model = model['tt_model']; ttgo.to('cpu')\n",
    "    w_goal, w_obst, w_ee, w_control = model['w']\n",
    "    b_goal, b_obst, b_ee, b_control = model['b']\n",
    "    margin = model['margin']\n",
    "    domain = model['domain']\n",
    "    x_obst= model['x_obst']\n",
    "    r_obst = model['r_obst']\n",
    "    n_joints = model['n_joints']\n",
    "    n_kp = model['n_kp']\n",
    "    dt = model['dt']\n",
    "    theta_0 = model['theta_0']\n",
    "    theta_3 = model['theta_3']\n",
    "else:\n",
    "    ttgo.cross_approximate(rmax=100, nswp=5, kickrank=3)"
   ]
  },
  {
   "cell_type": "code",
   "execution_count": 7,
   "metadata": {},
   "outputs": [],
   "source": [
    "# generate test set\n",
    "ns = 50\n",
    "test_task = torch.zeros(ns,len(domain_task))\n",
    "for i in range(len(domain_task)):\n",
    "    unif = torch.distributions.uniform.Uniform(low=domain_task[i][0],high=domain_task[i][-1])\n",
    "    test_task[:,i]= torch.tensor([unif.sample() for i in range(ns)])\n"
   ]
  },
  {
   "cell_type": "code",
   "execution_count": 8,
   "metadata": {},
   "outputs": [],
   "source": [
    "# # Save the model for future purpose\n",
    "# torch.save({\n",
    "#     'tt_model':ttgo.tt_model,\n",
    "#     'w': (w_goal,w_obst,w_ee,w_control),\n",
    "#     'b': (b_goal,b_obst,b_ee,b_control),\n",
    "#     'margin': margin,\n",
    "#     'domain': domain,\n",
    "#     'test_task': test_task,\n",
    "#     'x_obst':x_obst,\n",
    "#     'r_obst':r_obst,\n",
    "#     'n_joints':n_joints,\n",
    "#     'n_kp':10,\n",
    "#     'dt':0.02,\n",
    "#     'theta_0':theta_0,\n",
    "#     'theta_3':theta_3\n",
    "# }, 'planar_via_2.pickle')"
   ]
  },
  {
   "cell_type": "code",
   "execution_count": 9,
   "metadata": {},
   "outputs": [],
   "source": [
    "ttgo.set_sites(list(range(len(domain_task))))"
   ]
  },
  {
   "cell_type": "code",
   "execution_count": 10,
   "metadata": {},
   "outputs": [
    {
     "name": "stdout",
     "output_type": "stream",
     "text": [
      "total-cost | dist-to-goal | collision-cost | ee-cost | control-cost \n",
      "################################################################\n",
      "################################################################\n",
      "norm:1  |  alpha:0.9  |  n_samples_tt:100  |  n_samples_rand:100 | \n",
      "################################################################\n",
      "################################################################\n",
      "Cost TT (raw)           :  tensor([0.43, 0.07, 0.00, 0.61, 1.23])\n",
      "Cost TT (optimized)     :  tensor([0.03, 0.00, 0.00, 0.13, 0.20])\n",
      "Cost rand (raw)           :  tensor([    1.18,     0.16,     0.00,     2.70,     2.84])\n",
      "Cost rand (optimized)     :  tensor([0.14, 0.00, 0.00, 0.57, 0.96])\n",
      "-------------------------------------\n",
      "Performance, c_total <  0.33  (intersection)\n",
      "-------------------------------------\n",
      "Success-rate (tt vs rand) :  1.0 0.84\n",
      "# iterations (tt vs rand) :  9.976190476190476 15.714285714285714\n",
      "Cost-mean-tt-raw: tensor([0.39, 0.06, 0.00, 0.63, 1.23])\n",
      "Cost-mean-tt-opt: tensor([0.03, 0.00, 0.00, 0.13, 0.23])\n",
      "Cost-mean-rand-raw: tensor([1.18, 0.16, 0.00, 2.82, 2.22])\n",
      "Cost-mean-rand-opt: tensor([    0.06,     0.00,     0.00,     0.33,     0.16])\n",
      "-------------------------------------\n",
      "Performance, c_total <  0.33  (union)\n",
      "-------------------------------------\n",
      "Success-rate (tt vs rand) :  1.0 0.84\n",
      "# iterations (tt vs rand) :  10.22 15.14\n",
      "Cost-mean-tt-raw: tensor([0.43, 0.07, 0.00, 0.61, 1.23])\n",
      "Cost-mean-tt-opt: tensor([0.03, 0.00, 0.00, 0.13, 0.20])\n",
      "Cost-mean-rand-raw: tensor([    1.18,     0.16,     0.00,     2.70,     2.84])\n",
      "Cost-mean-rand-opt: tensor([0.14, 0.00, 0.00, 0.57, 0.96])\n"
     ]
    }
   ],
   "source": [
    "n_samples_tt = 100\n",
    "alpha = 0.9\n",
    "norm=1\n",
    "print(\"total-cost | dist-to-goal | collision-cost | ee-cost | control-cost \")\n",
    "from utils import test_ttgo\n",
    "_ = test_ttgo(ttgo=ttgo.clone(), cost=cost_to_print, test_task=test_task, n_samples_tt=n_samples_tt, \n",
    "     alpha=alpha, norm=norm, device='cpu', test_rand=True)\n"
   ]
  },
  {
   "cell_type": "markdown",
   "metadata": {},
   "source": [
    "## Visualization"
   ]
  },
  {
   "cell_type": "code",
   "execution_count": 11,
   "metadata": {},
   "outputs": [],
   "source": [
    "k = np.random.choice(np.arange(ns))\n",
    "x_task = test_task[k].view(1,-1)\n",
    "# samples, samples_idx = ttgo.sample_random(n_samples=1000, x_task=x_task)\n",
    "samples, samples_idx = ttgo.sample(n_samples=100, x_task=x_task, alpha=0.85,norm=1)\n",
    "state_tt = ttgo.choose_best_sample(samples)\n",
    "state_tt_opt, _ = ttgo.optimize(state_tt.to(\"cpu\"))\n",
    "state_tt_opt = state_tt_opt.to(device)\n",
    "\n",
    "x = 1*state_tt.reshape(1,-1)\n"
   ]
  },
  {
   "cell_type": "code",
   "execution_count": 12,
   "metadata": {},
   "outputs": [],
   "source": [
    "if mp ==3:\n",
    "    batch_size = x.shape[0]\n",
    "    x_goal_1 = x[:,:2] # desired position of ee at via point\n",
    "    x_goal_2 = x[:,2:4] # desired position of ee at the final point\n",
    "    theta_1 = x[:,4:4+n_joints] # via configuration\n",
    "    theta_2 = x[:,4+n_joints:4+2*n_joints] # via configuration\n",
    "    w = x[:,4+2*n_joints:] # weights of the basis function\n",
    "    w01 = w[:,:int(w.shape[-1]/3)] # weights for the first part of the motion: theta_0 to theta_1\n",
    "    w12 = w[:,int(w.shape[-1]/3):2*int(w.shape[-1]/3)] # for motion between theta_1 to theta_2\n",
    "    w23 = w[:,2*int(w.shape[-1]/3):] # for motion between theta_2 to theta_0\n",
    "\n",
    "    theta_t_01 = p2p_motion.gen_traj_p2p(theta_0.view(1,-1).repeat(batch_size,1),theta_1,w01)#batchxtimexjoint_angle\n",
    "    theta_t_12 = p2p_motion.gen_traj_p2p(theta_1,theta_2,w12)#batchxtimexjoint_angle\n",
    "    theta_t_23 = p2p_motion.gen_traj_p2p(theta_2,theta_3.view(1,-1).repeat(batch_size,1),w23)#batchxtimexjoint_angle\n",
    "\n",
    "    T01 = theta_t_01.shape[1]\n",
    "    T12 = theta_t_12.shape[1]\n",
    "    T23 = theta_t_23.shape[1]\n",
    "\n",
    "    kp_loc_t_01, joint_loc_t_01, ee_loc_t_01,_ = robot.forward_kin(theta_t_01.view(-1,n_joints))\n",
    "    kp_loc_t_12, joint_loc_t_12, ee_loc_t_12,_ = robot.forward_kin(theta_t_12.view(-1,n_joints))\n",
    "    kp_loc_t_23, joint_loc_t_23, ee_loc_t_23,_ = robot.forward_kin(theta_t_23.view(-1,n_joints))\n",
    "\n",
    "\n",
    "    joint_loc_t_01 = joint_loc_t_01.view(batch_size,T01,*joint_loc_t_01.shape[1:])[0]\n",
    "    joint_loc_t_12 = joint_loc_t_12.view(batch_size,T12,*joint_loc_t_12.shape[1:])[0]\n",
    "    joint_loc_t_23 = joint_loc_t_23.view(batch_size,T23,*joint_loc_t_23.shape[1:])[0]\n",
    "    joint_loc = torch.cat((joint_loc_t_01,joint_loc_t_12,joint_loc_t_23),dim=0).numpy()\n",
    "\n",
    "elif mp == 0:\n",
    "    batch_size = x.shape[0]\n",
    "    x_goal_1 = x[:,:2] # desired position of ee at via point\n",
    "    theta_1 = x[:,2:2+n_joints] # via configuration\n",
    "    w = x[:,2+n_joints:] # weights of the basis function\n",
    "    w01 = w[:,:int(w.shape[-1])] # weights for the first part of the motion: theta_0 to theta_1 \n",
    "    theta_t_01 = p2p_motion.gen_traj_p2p(theta_0.view(1,-1).repeat(batch_size,1),theta_1,w01)#batchxtimexjoint_angle\n",
    "    T01 = theta_t_01.shape[1]\n",
    "    kp_loc_t_01, joint_loc_t_01, ee_loc_t_01,_ = robot.forward_kin(theta_t_01.view(-1,n_joints))\n",
    "    joint_loc = joint_loc_t_01.view(batch_size,T01,*joint_loc_t_01.shape[1:])[0]\n",
    "    x_target = [x_goal_1.view(-1).numpy()]\n",
    "    \n",
    "elif mp == 1:\n",
    "    batch_size = x.shape[0]\n",
    "    x_goal_1 = x[:,:2] # desired position of ee at via point\n",
    "    theta_1 = x[:,2:2+n_joints] # via configuration\n",
    "    w = x[:,2+n_joints:] # weights of the basis function\n",
    "    w01 = w[:,:int(w.shape[-1])] # weights for the first part of the motion: theta_0 to theta_1 \n",
    "    theta_t_01 = p2p_motion.gen_traj_p2p(theta_0.view(1,-1).repeat(batch_size,1),theta_1,w01)#batchxtimexjoint_angle\n",
    "    T01 = theta_t_01.shape[1]\n",
    "    kp_loc_t_01, joint_loc_t_01, ee_loc_t_01,_ = robot.forward_kin(theta_t_01.view(-1,n_joints))\n",
    "    joint_loc = joint_loc_t_01.view(batch_size,T01,*joint_loc_t_01.shape[1:])[0]\n",
    "    x_target = [x_goal_1.view(-1).numpy(),x_goal_2.view(-1).numpy()]\n"
   ]
  },
  {
   "cell_type": "code",
   "execution_count": 13,
   "metadata": {},
   "outputs": [
    {
     "data": {
      "image/png": "[encoded data removed]",
      "text/plain": [
       "<Figure size 360x360 with 1 Axes>"
      ]
     },
     "metadata": {
      "needs_background": "light"
     },
     "output_type": "display_data"
    }
   ],
   "source": [
    "x_obst_np = [x.numpy() for x in x_obst]\n",
    "link_lengths_np = link_lengths.numpy()\n",
    "rect_patch = [[x_min_pick,y_min_pick, x_max_pick-x_min_pick,  y_max_pick-y_min_pick],\n",
    "              [x_min_place,y_min_place, x_max_place-x_min_place,  y_max_place-y_min_place]]\n",
    "plt=plot_chain(joint_loc=joint_loc, link_lengths=link_lengths_np, x_obst=x_obst_np, r_obst=r_obst, rect_patch=rect_patch, x_target=x_target, \n",
    "       batch=True, figsize=5, skip_frame=2, title=None, save_as=None, color_intensity=0.9, motion=True, alpha=0.8, \n",
    "           contrast=0.4, idx_highlight=[int(joint_loc.shape[0]-1)], lw=3, task=task)\n",
    "# plt.savefig(\"reach-2d-tt-opt-7.png\",dpi=300, pad_inches=0.01)"
   ]
  },
  {
   "cell_type": "code",
   "execution_count": 14,
   "metadata": {},
   "outputs": [
    {
     "data": {
      "text/plain": [
       "[0, 1, 2]"
      ]
     },
     "execution_count": 14,
     "metadata": {},
     "output_type": "execute_result"
    }
   ],
   "source": [
    "list(range(3))"
   ]
  },
  {
   "cell_type": "code",
   "execution_count": null,
   "metadata": {},
   "outputs": [],
   "source": []
  }
 ],
 "metadata": {
  "kernelspec": {
   "display_name": "Python 3",
   "language": "python",
   "name": "python3"
  },
  "language_info": {
   "codemirror_mode": {
    "name": "ipython",
    "version": 3
   },
   "file_extension": ".py",
   "mimetype": "text/x-python",
   "name": "python",
   "nbconvert_exporter": "python",
   "pygments_lexer": "ipython3",
   "version": "3.8.5"
  }
 },
 "nbformat": 4,
 "nbformat_minor": 4
}
