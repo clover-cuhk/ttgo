{
 "cells": [
  {
   "cell_type": "markdown",
   "metadata": {},
   "source": [
    "This notebook demonstrates inverse kinematics of manipulator using TTGO.\n",
    "\n",
    "    Copyright (c) 2008 Idiap Research Institute, http://www.idiap.ch/\n",
    "    Written by Suhan Shetty <suhan.shetty@idiap.ch>,\n"
   ]
  },
  {
   "cell_type": "code",
   "execution_count": 1,
   "metadata": {},
   "outputs": [],
   "source": [
    "import torch\n",
    "import numpy as np\n",
    "import sys\n",
    "sys.path.append('../')\n",
    "\n",
    "from planar_manipulator import PlanarManipulator\n",
    "from cost_utils import PlanarManipulatorCost\n",
    "from plot_utils import plot_chain\n",
    "from utils import test_ttgo\n",
    "from ttgo import TTGO\n",
    "import time\n",
    "%load_ext autoreload\n",
    "%autoreload 2\n",
    "np.set_printoptions(precision=4, suppress=True)"
   ]
  },
  {
   "cell_type": "markdown",
   "metadata": {},
   "source": [
    "Define the robot paramters"
   ]
  },
  {
   "cell_type": "code",
   "execution_count": 2,
   "metadata": {},
   "outputs": [],
   "source": [
    "n_joints = 3\n",
    "link_lengths = torch.tensor([1.4/n_joints]*n_joints)\n",
    "max_theta = np.pi/1.1\n",
    "min_theta = -1*max_theta\n",
    "robot = PlanarManipulator(n_joints=n_joints,link_lengths=link_lengths,max_theta=max_theta,n_kp=5, device='cpu')"
   ]
  },
  {
   "cell_type": "markdown",
   "metadata": {},
   "source": [
    "Define the cost and the pdf"
   ]
  },
  {
   "cell_type": "code",
   "execution_count": 3,
   "metadata": {},
   "outputs": [],
   "source": [
    "x_obst = [torch.tensor([0.5,0.5]),torch.tensor([-0.35,0.]),\n",
    "          torch.tensor([-0.25,0.75]),torch.tensor([0,-0.75])]\n",
    "r_obst = [0.25,0.15,0.25,0.3]\n",
    "margin=0.025\n",
    "w_goal= 0.4; w_obst=0.4; w_orient = 0.2;\n",
    "b_goal=0.15; b_obst=0.5; b_orient=0.5\n",
    "costPlanarManipulator = PlanarManipulatorCost(robot,x_obst=x_obst,r_obst=r_obst, margin=margin, \n",
    "                                              w_goal=w_goal, w_obst=w_obst, w_orient=w_orient,\n",
    "                                              b_goal=b_goal, b_obst=b_obst, b_orient=b_orient)\n",
    "def cost(x):\n",
    "    return costPlanarManipulator.cost_ik_2(x)[:,0]\n",
    "\n",
    "def pdf(x):\n",
    "    return torch.exp(-cost(x)**2)"
   ]
  },
  {
   "cell_type": "markdown",
   "metadata": {},
   "source": [
    "Discretization of the domain"
   ]
  },
  {
   "cell_type": "code",
   "execution_count": 4,
   "metadata": {},
   "outputs": [],
   "source": [
    "# Define the range of target poses of the end-effector\n",
    "pose_max = torch.sum(link_lengths)\n",
    "pose_min = -1*pose_max\n",
    "\n",
    "# Discretize the domain\n",
    "d0_x = 100\n",
    "d0_theta = 100\n",
    "domain_task=  [torch.linspace(pose_min,pose_max,d0_x)]*2 + [torch.linspace(0,2*torch.pi,d0_theta)] # position of ee and orientation\n",
    "domain_decision = [torch.linspace(min_theta,max_theta,d0_theta)]*n_joints # joint angles\n",
    "domain =  domain_task + domain_decision \n"
   ]
  },
  {
   "cell_type": "markdown",
   "metadata": {},
   "source": [
    "### Fit TT-Model for the PMF"
   ]
  },
  {
   "cell_type": "code",
   "execution_count": 5,
   "metadata": {},
   "outputs": [],
   "source": [
    "ttgo_0 = TTGO(domain=domain,pdf=pdf, cost=cost)"
   ]
  },
  {
   "cell_type": "code",
   "execution_count": 6,
   "metadata": {},
   "outputs": [
    {
     "name": "stdout",
     "output_type": "stream",
     "text": [
      "cross device is cpu\n",
      "Cross-approximation over a 6D domain containing 1e+12 grid points:\n",
      "Note: The algorithm converges as the ratio tt-new-norm/tt-old-norm settles to 1. For TTGO, the convergence is not important, just keep iterating as long as the ratio > 1\n",
      "iter: 0  | tt-new-norm/tt-old-norm: 2.774e-04 | time:   0.0412 | largest rank:   1\n",
      "iter: 1  | tt-new-norm/tt-old-norm: 2.136e+01 | time:   0.3003 | largest rank:   6\n",
      "iter: 2  | tt-new-norm/tt-old-norm: 1.658e+00 | time:   1.0650 | largest rank:  11\n",
      "iter: 3  | tt-new-norm/tt-old-norm: 1.462e+00 | time:   2.6776 | largest rank:  16\n",
      "iter: 4  | tt-new-norm/tt-old-norm: 1.270e+00 | time:   5.4643 | largest rank:  21\n",
      "iter: 5  | tt-new-norm/tt-old-norm: 1.138e+00 | time:   9.8982 | largest rank:  26\n",
      "iter: 6  | tt-new-norm/tt-old-norm: 1.086e+00 | time:  16.0239 | largest rank:  31\n",
      "iter: 7  | tt-new-norm/tt-old-norm: 1.065e+00 | time:  24.8280 | largest rank:  36\n",
      "iter: 8  | tt-new-norm/tt-old-norm: 1.081e+00 | time:  35.7458 | largest rank:  41\n",
      "iter: 9  | tt-new-norm/tt-old-norm: 1.061e+00 | time:  50.6888 | largest rank:  46 <- max_iter was reached: 10\n",
      "Did 6138500 function evaluations, which took 50.14s (1.224e+05 evals/s)\n",
      "\n"
     ]
    }
   ],
   "source": [
    "ttgo_0.cross_approximate(rmax=500, nswp=10, eps=1e-6, kickrank=5) # increase nswp for beter tt model\n",
    "# saved_model = torch.load('planar_ik.pickle')\n",
    "# ttgo.tt_model = saved_model['tt_model']\n",
    "# w_goal,w_obst = saved_model['w']\n",
    "# b_goal,b_obst = saved_model['b']\n",
    "# domain = saved_model['domain']\n",
    "# margin=saved_model['margin']\n",
    "# x_obst = saved_model['x_obst']\n",
    "# r_obst = saved_model['r_obst']\n",
    "# d0_x,d0_theta = saved_model['d0']\n",
    "# n_joints = saved_model['n_joints']"
   ]
  },
  {
   "cell_type": "code",
   "execution_count": 7,
   "metadata": {},
   "outputs": [],
   "source": [
    "ttgo= ttgo_0.clone()"
   ]
  },
  {
   "cell_type": "markdown",
   "metadata": {},
   "source": [
    "### Test the model"
   ]
  },
  {
   "cell_type": "code",
   "execution_count": 8,
   "metadata": {},
   "outputs": [],
   "source": [
    "# Generate test set (feasible target points)\n",
    "ns = 1000\n",
    "test_theta = torch.zeros(ns,n_joints)\n",
    "for i in range(n_joints):\n",
    "    unif = torch.distributions.uniform.Uniform(low=min_theta,high=max_theta)\n",
    "    sample = torch.tensor([unif.sample() for i in range(ns)])\n",
    "    test_theta[:,i] = sample\n",
    "    \n",
    "_, _, test_x, test_orient = robot.forward_kin(test_theta)\n",
    "\n",
    "test_set = torch.cat((test_x,test_orient.view(-1,1),test_theta),dim=-1)\n",
    "cost_values = costPlanarManipulator.cost_ik_2(test_set)\n",
    "test_set = test_set[cost_values[:,0]<0.05]\n",
    "ns = min(test_set.shape[0],50)\n"
   ]
  },
  {
   "cell_type": "code",
   "execution_count": 9,
   "metadata": {},
   "outputs": [],
   "source": [
    "# # # Save the model\n",
    "# file_name = 'planar_ik_orient.pickle'\n",
    "# torch.save({\n",
    "#     'tt_model':ttgo.tt_model,\n",
    "#     'w': (w_goal,w_obst,w_orient),\n",
    "#     'b': (b_goal,b_obst,b_orient),\n",
    "#     'd0':(d0_x,d0_theta),\n",
    "#     'margin': margin,\n",
    "#     'domain': domain,\n",
    "#     'test_task': test_task,\n",
    "#     'x_obst':x_obst,\n",
    "#     'r_obst':r_obst,\n",
    "#     'n_joints':n_joints,\n",
    "#     'link_lengths':link_lengths\n",
    "# }, file_name)\n"
   ]
  },
  {
   "cell_type": "code",
   "execution_count": 10,
   "metadata": {},
   "outputs": [],
   "source": [
    "sites_task = [0,1]\n",
    "ttgo.set_sites(sites_task)\n",
    "test_task = test_set[:ns, :len(sites_task)]"
   ]
  },
  {
   "cell_type": "code",
   "execution_count": null,
   "metadata": {},
   "outputs": [],
   "source": []
  },
  {
   "cell_type": "code",
   "execution_count": 11,
   "metadata": {},
   "outputs": [
    {
     "name": "stdout",
     "output_type": "stream",
     "text": [
      "total-cost | dist-to-goal | num-of-collisions \n",
      "################################################################\n",
      "################################################################\n",
      "norm:1  |  alpha:0.75  |  n_samples_tt:100  |  n_samples_rand:100 | \n",
      "################################################################\n",
      "################################################################\n",
      "Cost TT (raw)           :  tensor([0.23, 0.06, 0.00, 0.14])\n",
      "Cost TT (optimized)     :  tensor([0.01, 0.00, 0.00, 0.01])\n",
      "Cost rand (raw)           :  tensor([0.90, 0.20, 0.08, 0.74])\n",
      "Cost rand (optimized)     :  tensor([0.10, 0.03, 0.01, 0.01])\n",
      "-------------------------------------\n",
      "Performance, c_total <  0.33  (intersection)\n",
      "-------------------------------------\n",
      "Success-rate (tt vs rand) :  1.0 0.92\n",
      "# iterations (tt vs rand) :  7.739130434782608 10.934782608695652\n",
      "Cost-mean-tt-raw: tensor([0.22, 0.06, 0.00, 0.13])\n",
      "Cost-mean-tt-opt: tensor([0.02, 0.00, 0.00, 0.01])\n",
      "Cost-mean-rand-raw: tensor([0.87, 0.19, 0.08, 0.77])\n",
      "Cost-mean-rand-opt: tensor([0.04, 0.01, 0.01, 0.02])\n",
      "-------------------------------------\n",
      "Performance, c_total <  0.33  (union)\n",
      "-------------------------------------\n",
      "Success-rate (tt vs rand) :  1.0 0.92\n",
      "# iterations (tt vs rand) :  7.9 10.62\n",
      "Cost-mean-tt-raw: tensor([0.23, 0.06, 0.00, 0.14])\n",
      "Cost-mean-tt-opt: tensor([0.01, 0.00, 0.00, 0.01])\n",
      "Cost-mean-rand-raw: tensor([0.90, 0.20, 0.08, 0.74])\n",
      "Cost-mean-rand-opt: tensor([0.10, 0.03, 0.01, 0.01])\n"
     ]
    }
   ],
   "source": [
    "n_samples_tt = 100\n",
    "alpha = 0.75\n",
    "norm=1\n",
    "print(\"total-cost | dist-to-goal | num-of-collisions \")\n",
    "_ = test_ttgo(ttgo=ttgo.clone(), cost= costPlanarManipulator.cost_ik_2, test_task=test_task, \n",
    "          n_samples_tt=n_samples_tt,alpha=alpha, norm=norm, device='cpu', test_rand=True)\n"
   ]
  },
  {
   "cell_type": "markdown",
   "metadata": {},
   "source": [
    "### Visualization"
   ]
  },
  {
   "cell_type": "code",
   "execution_count": 12,
   "metadata": {},
   "outputs": [
    {
     "data": {
      "image/png": "[encoded data removed]",
      "text/plain": [
       "<Figure size 360x360 with 1 Axes>"
      ]
     },
     "metadata": {
      "needs_background": "light"
     },
     "output_type": "display_data"
    },
    {
     "data": {
      "image/png": "[encoded data removed]",
      "text/plain": [
       "<Figure size 360x360 with 1 Axes>"
      ]
     },
     "metadata": {},
     "output_type": "display_data"
    }
   ],
   "source": [
    "# choose a task-parameter (target position of end-effector)\n",
    "s = np.random.choice(np.arange(ns))\n",
    "x_task = test_task[s] \n",
    "\n",
    "#torch.tensor([ 0.3472, -0.6735,  3.6776])\n",
    "\n",
    "# Sample from TT-model\n",
    "alpha=0.75\n",
    "n_samples = 100\n",
    "t1 = time.time()\n",
    "samples, samples_idx = ttgo.sample(n_samples=n_samples, x_task=x_task, alpha=alpha, norm=1) \n",
    "# samples, samples_idx = ttgo.sample_random(n_samples=5*n_samples, x_task=x_task) \n",
    "\n",
    "# Fine tune the approximation\n",
    "best_estimate_tt = ttgo.choose_best_sample(samples)\n",
    "best_estimate_tt_opt = ttgo.optimize(best_estimate_tt)\n",
    "t2 = time.time()\n",
    "\n",
    "# For multiple solutions\n",
    "k = 5\n",
    "top_k_estimate_tt = ttgo.choose_top_k_sample(samples,k)\n",
    "top_k_estimate_tt_opt = 1*top_k_estimate_tt\n",
    "for i in range(top_k_estimate_tt.shape[0]):\n",
    "    top_k_estimate_tt_opt[i], _ = ttgo.optimize(top_k_estimate_tt[i])\n",
    "\n",
    "\n",
    "figsize=5    \n",
    "    \n",
    "_,joint_loc,_,_ = robot.forward_kin(top_k_estimate_tt[:,3:])\n",
    "joint_loc = joint_loc.numpy()\n",
    "link = link_lengths.numpy()\n",
    "x_obst_np = [x.numpy() for x in x_obst]\n",
    "x_target = [x_task[:2].numpy()]\n",
    "\n",
    "title = \"TTGO\"\n",
    "plt = plot_chain(joint_loc=joint_loc, link_lengths=link, x_obst=x_obst_np, r_obst=r_obst, \n",
    "           x_target=x_target, batch=True, skip_frame=1,figsize=figsize, title=title, save_as=None, \n",
    "           color_intensity=0.9, motion=False, alpha=0.5, contrast=0.3,lw=5)\n",
    "# plt.savefig(\"twoD-3n-ik-5.png\",dpi=300, pad_inches=0.01, motion=\"False\")\n",
    "\n",
    "\n",
    "_,joint_loc,_,_ = robot.forward_kin(top_k_estimate_tt_opt[:,3:])\n",
    "joint_loc = joint_loc.numpy()\n",
    "link = link_lengths.numpy()\n",
    "x_obst_np = [x.numpy() for x in x_obst]\n",
    "title = \"TTGO + Refinement\"\n",
    "plt = plot_chain(joint_loc=joint_loc, link_lengths=link, x_obst=x_obst_np, r_obst=r_obst, \n",
    "           x_target=x_target, batch=True, skip_frame=1, figsize=figsize, title=title, save_as=None, \n",
    "           color_intensity=0., motion=False, alpha=0.5, contrast=0., task='ik',lw=5)"
   ]
  },
  {
   "cell_type": "code",
   "execution_count": null,
   "metadata": {},
   "outputs": [],
   "source": []
  }
 ],
 "metadata": {
  "kernelspec": {
   "display_name": "Python 3",
   "language": "python",
   "name": "python3"
  },
  "language_info": {
   "codemirror_mode": {
    "name": "ipython",
    "version": 3
   },
   "file_extension": ".py",
   "mimetype": "text/x-python",
   "name": "python",
   "nbconvert_exporter": "python",
   "pygments_lexer": "ipython3",
   "version": "3.8.5"
  }
 },
 "nbformat": 4,
 "nbformat_minor": 4
}
