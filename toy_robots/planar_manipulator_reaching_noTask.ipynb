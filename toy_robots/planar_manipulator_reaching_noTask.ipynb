{
 "cells": [
  {
   "cell_type": "markdown",
   "metadata": {},
   "source": [
    "Copyright (c) 2008 Idiap Research Institute, http://www.idiap.ch/\n",
    "    \n",
    "Written by Suhan Shetty <suhan.shetty@idiap.ch>,\n"
   ]
  },
  {
   "cell_type": "markdown",
   "metadata": {},
   "source": [
    "### Motion Planning without task-parameters"
   ]
  },
  {
   "cell_type": "code",
   "execution_count": 1,
   "metadata": {},
   "outputs": [],
   "source": [
    "%load_ext autoreload\n",
    "%autoreload 2\n",
    "import torch\n",
    "import numpy as np \n",
    "torch.set_default_tensor_type(torch.DoubleTensor)\n",
    "from planar_manipulator import PlanarManipulator\n",
    "from plot_utils import plot_chain\n",
    "\n",
    "np.set_printoptions(3, suppress=True)\n",
    "torch.set_printoptions(3, sci_mode=False)\n",
    "\n",
    "import sys\n",
    "sys.path.append('../')\n",
    "from ttgo import TTGO\n",
    "from cost_utils import PlanarManipulatorCost\n",
    "from utils import Point2PointMotion\n",
    "\n",
    "import warnings\n",
    "warnings.filterwarnings('ignore')\n",
    "device =  'cpu'#torch.device(\"cuda\" if torch.cuda.is_available() else \"cpu\")\n",
    "# device = 'cpu'"
   ]
  },
  {
   "cell_type": "code",
   "execution_count": 2,
   "metadata": {},
   "outputs": [],
   "source": [
    "file_name = None # trained model"
   ]
  },
  {
   "cell_type": "code",
   "execution_count": 3,
   "metadata": {},
   "outputs": [],
   "source": [
    "# Define the robot\n",
    "n_joints = 4\n",
    "link_lengths = torch.tensor([1.]*n_joints)\n",
    "max_theta = torch.pi\n",
    "min_theta = -1*max_theta\n",
    "n_kp = 10;\n",
    "dt = 0.01;\n",
    "d0_w = 50;\n",
    "# Define the environment and the task (Cost function)\n",
    "\n",
    "x_obst = [torch.tensor([1.5,1.]),torch.tensor([1.6,2.1]),torch.tensor([3.0,0]),torch.tensor([2.,-0.5])]#,torch.tensor([0.5,0.])]\n",
    "r_obst = [0.4,0.1,0.4,0.4]\n",
    "margin=0.02\n",
    "w_goal= 0.; w_obst=0.6; w_ee=0.; w_control=0.4;\n",
    "b_goal=0.1;b_obst=1; b_ee=1; b_control=1.;\n",
    "\n",
    "theta_0 = torch.tensor([ -0.05*np.pi, 0.55*np.pi, 0.45*np.pi, -0.45*np.pi])#torch.tensor([2.1*torch.pi/4,-1.5*torch.pi/4]).view(1,-1)\n",
    "theta_3 = torch.tensor([-np.pi*0.,   np.pi*0.1 ,  np.pi*0.3,  np.pi*0.1])\n",
    "\n",
    "K=2\n",
    "robot = PlanarManipulator(n_joints=n_joints,link_lengths=link_lengths,max_theta=max_theta,n_kp=n_kp, device='cpu')\n",
    "bounds = [robot.min_config, robot.max_config]\n",
    "p2p_motion = Point2PointMotion(n=n_joints,dt=dt,K=K,basis='rbf',bounds=bounds)\n",
    "costPlanarManipulator = PlanarManipulatorCost(robot,p2p_motion=p2p_motion,x_obst=x_obst,r_obst=r_obst, margin=margin,\n",
    "                                              w_goal=w_goal,w_obst=w_obst,w_ee=w_ee, w_control=w_control,\n",
    "                                              b_goal=b_goal, b_obst=b_obst,b_ee=b_ee, b_control=b_control)"
   ]
  },
  {
   "cell_type": "markdown",
   "metadata": {},
   "source": [
    "Define the domain and the cost functions"
   ]
  },
  {
   "cell_type": "code",
   "execution_count": 4,
   "metadata": {},
   "outputs": [],
   "source": [
    "# Pick and place location (via-points: x_1 and x_2)\n",
    "domain_w = [torch.linspace(min_theta,max_theta,d0_w)]*(K*n_joints)\n",
    "def cost(x):\n",
    "    return costPlanarManipulator.cost_j2j(x,theta_0,theta_3)[:,0]\n",
    "\n",
    "def cost_to_print(x):\n",
    "    return costPlanarManipulator.cost_j2j(x,theta_0,theta_3)\n",
    "\n",
    "def pdf(x):\n",
    "    return torch.exp(-cost(x)**2)\n",
    "\n",
    "\n",
    "domain = domain_w\n"
   ]
  },
  {
   "cell_type": "code",
   "execution_count": 5,
   "metadata": {},
   "outputs": [],
   "source": [
    "ttgo = TTGO(domain=domain,pdf=pdf,cost=cost,device=device)"
   ]
  },
  {
   "cell_type": "code",
   "execution_count": 6,
   "metadata": {},
   "outputs": [
    {
     "name": "stdout",
     "output_type": "stream",
     "text": [
      "cross device is cpu\n",
      "Cross-approximation over a 8D domain containing 3.90625e+13 grid points:\n",
      "Note: The algorithm converges as the ratio tt-new-norm/tt-old-norm settles to 1. For TTGO, the convergence is not important, just keep iterating as long as the ratio > 1\n",
      "iter: 0 | tt-new-norm/tt-old-norm: 5.180e-05 | time:   1.8735 | largest rank:   1\n",
      "iter: 1 | tt-new-norm/tt-old-norm: 9.975e+00 | time:  15.9960 | largest rank:   3\n",
      "iter: 2 | tt-new-norm/tt-old-norm: 3.332e-01 | time:  31.9136 | largest rank:   3\n",
      "iter: 3 | tt-new-norm/tt-old-norm: 1.279e+00 | time:  48.1996 | largest rank:   3\n",
      "iter: 4 | tt-new-norm/tt-old-norm: 1.538e+00 | time:  64.4468 | largest rank:   3 <- max_iter was reached: 5\n",
      "Did 24150 function evaluations, which took 64.19s (376.3 evals/s)\n",
      "\n"
     ]
    }
   ],
   "source": [
    "# Either load a trained model or train a new model:\n",
    "ttgo.cross_approximate(rmax=3, nswp=5, kickrank=3)"
   ]
  },
  {
   "cell_type": "markdown",
   "metadata": {},
   "source": [
    "## Visualization"
   ]
  },
  {
   "cell_type": "code",
   "execution_count": 7,
   "metadata": {},
   "outputs": [
    {
     "data": {
      "text/plain": [
       "tensor([[    0.09,     0.00,     0.24],\n",
       "        [    0.00,     0.00,     0.00],\n",
       "        [    0.11,     0.00,     0.27],\n",
       "        [    0.10,     0.00,     0.24],\n",
       "        [    0.01,     0.00,     0.03],\n",
       "        [    0.18,     0.00,     0.45],\n",
       "        [    0.00,     0.00,     0.00],\n",
       "        [    0.00,     0.00,     0.00],\n",
       "        [    0.04,     0.00,     0.11],\n",
       "        [    0.00,     0.00,     0.00]])"
      ]
     },
     "execution_count": 7,
     "metadata": {},
     "output_type": "execute_result"
    }
   ],
   "source": [
    "# samples, samples_idx = ttgo.sample_random(n_samples=1000, x_task=x_task)\n",
    "samples, samples_idx = ttgo.sample(n_samples=100,alpha=0.9,norm=1)\n",
    "state_tt_k = ttgo.choose_top_k_sample(samples,k=10)\n",
    "\n",
    "state_tt_opt_k = 1*state_tt_k\n",
    "for i in range(state_tt_k.shape[0]):\n",
    "    state_tt_opt_k[i,:], _ = ttgo.optimize(state_tt_k[i])\n",
    "x = state_tt_opt_k#1*state_tt.reshape(1,-1)\n",
    "\n",
    "costPlanarManipulator.cost_j2j(x,theta_0,theta_3)\n"
   ]
  },
  {
   "cell_type": "code",
   "execution_count": 8,
   "metadata": {},
   "outputs": [],
   "source": [
    "\n",
    "batch_size = x.shape[0]\n",
    "theta_1 = theta_0.repeat(batch_size,1)\n",
    "theta_2 = theta_3.repeat(batch_size,1)\n",
    "w = 1*x # weights\n",
    "theta_t = p2p_motion.gen_traj_p2p(theta_1,theta_2,w) #joint angles: batch x time x joint\n",
    "T = theta_t.shape[1]\n",
    "\n",
    "key_loc_t,joint_loc_t, ee_loc_t, theta_ee_t = robot.forward_kin(theta_t.view(-1,n_joints)) # (batchxtime) x joint x key x positions\n",
    "joint_loc_t = joint_loc_t.view(batch_size,-1,n_joints+1,2)\n",
    "# joint_loc_t.shape"
   ]
  },
  {
   "cell_type": "code",
   "execution_count": 11,
   "metadata": {},
   "outputs": [
    {
     "data": {
      "image/png": "[encoded data removed]",
      "text/plain": [
       "<Figure size 360x360 with 1 Axes>"
      ]
     },
     "metadata": {
      "needs_background": "light"
     },
     "output_type": "display_data"
    }
   ],
   "source": [
    "joint_loc = joint_loc_t[0]\n",
    "x_obst_np = [x.numpy() for x in x_obst]\n",
    "link_lengths_np = link_lengths.numpy()\n",
    "plt=plot_chain(joint_loc=joint_loc, link_lengths=link_lengths_np, x_obst=x_obst_np, r_obst=r_obst, rect_patch=[], x_target=[], \n",
    "       batch=True, figsize=5, skip_frame=2, title=None, save_as=None, color_intensity=0.9, motion=True, alpha=0., \n",
    "           contrast=0.4, idx_highlight=[0,int(joint_loc.shape[0]-1)], lw=3, task='reaching')\n",
    "plt.savefig(\"reach-2d-no-task-1.png\",dpi=300, pad_inches=0.01,bbox_inches='tight' )"
   ]
  },
  {
   "cell_type": "code",
   "execution_count": null,
   "metadata": {},
   "outputs": [],
   "source": []
  }
 ],
 "metadata": {
  "kernelspec": {
   "display_name": "Python 3",
   "language": "python",
   "name": "python3"
  },
  "language_info": {
   "codemirror_mode": {
    "name": "ipython",
    "version": 3
   },
   "file_extension": ".py",
   "mimetype": "text/x-python",
   "name": "python",
   "nbconvert_exporter": "python",
   "pygments_lexer": "ipython3",
   "version": "3.8.5"
  }
 },
 "nbformat": 4,
 "nbformat_minor": 4
}
