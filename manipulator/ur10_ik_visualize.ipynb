{
 "cells": [
  {
   "cell_type": "code",
   "execution_count": 1,
   "metadata": {},
   "outputs": [
    {
     "name": "stdout",
     "output_type": "stream",
     "text": [
      "WARNING: torch_batch_svd (https://github.com/KinglittleQ/torch-batch-svd) is not installed and is required for maximum efficiency of special_procrustes. Using torch.svd as a fallback.\n",
      "device:  cpu\n"
     ]
    }
   ],
   "source": [
    "%load_ext autoreload\n",
    "%autoreload 2\n",
    "import torch\n",
    "import numpy as np\n",
    "np.set_printoptions(4, suppress=True)\n",
    "torch.set_printoptions(4, sci_mode=False)\n",
    "import sys\n",
    "sys.path.append('../')\n",
    "from ttgo import TTGO\n",
    "from utils import test_ttgo\n",
    "from ur10_kinematics import Ur10Kinematics\n",
    "from manipulator_utils import dist_orientation_fixed\n",
    "device = 'cpu'#torch.device(\"cuda\" if torch.cuda.is_available() else \"cpu\")\n",
    "print(\"device: \", device)"
   ]
  },
  {
   "cell_type": "code",
   "execution_count": null,
   "metadata": {},
   "outputs": [],
   "source": []
  },
  {
   "cell_type": "code",
   "execution_count": 2,
   "metadata": {},
   "outputs": [],
   "source": [
    "trained_model = torch.load('ur10_ik.pickle', map_location=torch.device('cpu'))\n",
    "b_goal,b_orient = trained_model['b']\n",
    "d0_theta = trained_model['d0_theta']\n",
    "dh_x = trained_model['dh_x']\n",
    "domain = trained_model['domain']\n",
    "Rd_0 = trained_model['Rd_0']\n",
    "test_task = trained_model['test_task']"
   ]
  },
  {
   "cell_type": "code",
   "execution_count": 3,
   "metadata": {},
   "outputs": [],
   "source": [
    "# Setup the robot and the environment\n",
    "\n",
    "ur10 = Ur10Kinematics(device=device)\n",
    "n_joints= ur10.n_joints\n",
    "# Desired orientation (fixed orientation)\n",
    "\n",
    "def cost_all(x): # For inverse kinematics\n",
    "    x = x.to(device)\n",
    "    batch_size = x.shape[0]\n",
    "    goal_loc = x[:,:3]\n",
    "    q = x[:,3:]  # batch x joint angles\n",
    "    _, end_loc, end_R = ur10.forward_kin(q) # batch x joint x keys x positions\n",
    "    # cost on error in end-effector position\n",
    "    d_goal = torch.linalg.norm(end_loc-goal_loc, dim=1)\n",
    "    # cost on error in end-effector orientation\n",
    "    d_orient = dist_orientation_fixed(Rd_0,end_R,device=device)\n",
    "    c_total = 0.5*(d_goal/b_goal + d_orient/b_orient)\n",
    "    c_return = torch.cat((c_total.view(-1,1), d_goal.view(-1,1), d_orient.view(-1,1)),dim=-1)\n",
    "    return c_return\n",
    "\n",
    "def cost(x):\n",
    "    return cost_all(x)[:,0]\n",
    "\n",
    "\n",
    "def pdf(x):\n",
    "    x = x.to(device)\n",
    "    pdf_ = torch.exp(-cost(x)**2) \n",
    "    return pdf_\n",
    "\n",
    "#####################################################################\n"
   ]
  },
  {
   "cell_type": "code",
   "execution_count": 4,
   "metadata": {},
   "outputs": [],
   "source": [
    "\n",
    "ttgo = TTGO(domain=domain,pdf=pdf,cost=cost)\n",
    "ttgo.tt_model = trained_model['tt_model']\n",
    "ttgo.to('cpu')\n",
    "\n",
    "# Prepare for the task\n",
    "sites_task = list(range(3))\n",
    "ttgo.set_sites(sites_task)"
   ]
  },
  {
   "cell_type": "code",
   "execution_count": 5,
   "metadata": {},
   "outputs": [
    {
     "data": {
      "text/plain": [
       "tensor([[1., 0., 0.],\n",
       "        [0., 1., 0.],\n",
       "        [0., 0., 1.]])"
      ]
     },
     "execution_count": 5,
     "metadata": {},
     "output_type": "execute_result"
    }
   ],
   "source": [
    "Rd_0"
   ]
  },
  {
   "cell_type": "markdown",
   "metadata": {},
   "source": [
    "## Visualization"
   ]
  },
  {
   "cell_type": "code",
   "execution_count": 6,
   "metadata": {},
   "outputs": [],
   "source": [
    "import pybullet_data\n",
    "from panda_visualization_utils import *\n",
    "import pybullet as p\n",
    "from functools import partial\n",
    "# import the environment (SDF and for graphics visualization in pybullet)\n",
    "import sys\n",
    "sys.path.append('../../lib')\n",
    "\n",
    "import sys\n",
    "DATA_PATH = './data'\n",
    "robot_urdf = DATA_PATH + '/urdf/ur10/ur10.urdf'\n",
    "\n",
    "\n",
    "physics_client_id = p.connect(p.GUI)\n",
    "p.setPhysicsEngineParameter(enableFileCaching=0)\n",
    "p.setAdditionalSearchPath(pybullet_data.getDataPath())\n",
    "p.configureDebugVisualizer(p.COV_ENABLE_GUI,0)\n",
    "\n",
    "p.resetSimulation()\n",
    "\n",
    "# for i in range(8):\n",
    "#     print(i, p.getJointInfo(robot_id, i)[1])\n",
    "    \n",
    "robot_id = p.loadURDF(robot_urdf)\n",
    "\n",
    "dof = p.getNumJoints(robot_id)\n",
    "pb_joint_indices = np.arange(1,7)\n",
    "joint_limits = get_joint_limits(robot_id,pb_joint_indices)\n",
    "set_q_std = partial(set_q,robot_id, pb_joint_indices)\n",
    "\n",
    "plane_id = p.loadURDF('plane.urdf')\n",
    "p.resetBasePositionAndOrientation(plane_id, (0,0,0.), (0,0,0,1))\n",
    "\n",
    "#for visualizing the desired target\n",
    "_,_,ball_id = create_primitives(radius=0.05)\n",
    "\n",
    "ee_pb_id = 7\n"
   ]
  },
  {
   "cell_type": "code",
   "execution_count": 7,
   "metadata": {},
   "outputs": [],
   "source": [
    "# # Prepare for the task\n",
    "# sites_task = list(range(3))\n",
    "# ttgo.set_sites(sites_task)"
   ]
  },
  {
   "cell_type": "code",
   "execution_count": 8,
   "metadata": {},
   "outputs": [
    {
     "name": "stdout",
     "output_type": "stream",
     "text": [
      "tensor([-0.00, 0.30, 0.70])\n",
      "Time taken: 7.0895466804504395 0.00010991096496582031\n",
      "Cost-mean-tt: tensor([    0.00,     0.00,     0.00])\n"
     ]
    }
   ],
   "source": [
    "s = np.random.randint(0,test_task.shape[0]-1)\n",
    "sample_xe = torch.tensor([-0.0, 0.3, 0.7]) #\n",
    "print(sample_xe)\n",
    "\n",
    "\n",
    "n_solutions=50\n",
    "n_samples_tt = 200 #50*n_solutions\n",
    "n_samples_rand= 1*n_samples_tt\n",
    "\n",
    "alpha=0.75; norm=1 ; sample_replace = True; \n",
    "\n",
    "t1 = time.time()\n",
    "samples_tt, samples_idx = ttgo.sample(n_samples=n_samples_tt, x_task=sample_xe.reshape(1,-1),alpha=alpha, norm=norm, sample_replace=sample_replace)\n",
    "state_k_tt = ttgo.choose_top_k_sample(samples_tt,n_solutions)\n",
    "\n",
    "#Optimize\n",
    "state_k_tt_opt = 1*state_k_tt\n",
    "for i, state in enumerate(state_k_tt):\n",
    "    state_k_tt_opt[i,:],results= ttgo.optimize(state,bound=True)\n",
    "t2 = time.time()\n",
    "\n",
    "# samples_rand, _ = ttgo.sample_random(n_samples=n_samples_rand,  x_task=sample_xe.reshape(1,-1))\n",
    "# state_k_rand = ttgo.choose_top_k_sample(samples_rand,n_solutions)\n",
    "\n",
    "# #Optimize\n",
    "# state_k_rand_opt = state_k_rand*1\n",
    "# for i, state in enumerate(state_k_rand):\n",
    "#     state_k_rand_opt[i,:],results= ttgo.optimize(state,bound=True)\n",
    "t3=time.time()\n",
    "\n",
    "print(\"Time taken:\", (t2-t1), t3-t2)\n",
    "             \n",
    "c_tt =  cost_all(state_k_tt_opt)\n",
    "# c_rand =   cost_all(state_k_rand_opt)\n",
    "\n",
    "print(\"Cost-mean-tt:\",torch.mean(c_tt,dim=0))\n",
    "# print(\"Cost-mean-rand:\",torch.mean(c_rand,dim=0))\n",
    "\n"
   ]
  },
  {
   "cell_type": "code",
   "execution_count": 9,
   "metadata": {},
   "outputs": [],
   "source": [
    "x_target = sample_xe[:3].numpy()\n",
    "joint_angles_k = state_k_tt[:,3:].numpy() \n",
    "joint_angles_k_opt = state_k_tt_opt[:,3:].numpy() "
   ]
  },
  {
   "cell_type": "code",
   "execution_count": null,
   "metadata": {},
   "outputs": [],
   "source": [
    "# _,_,test_sphere = create_primitives(p.GEOM_SPHERE, radius = 0.02)\n",
    "# p.resetBasePositionAndOrientation(test_sphere, (0,0,1.), (0,0,0,1))\n",
    "_ , _,sphere_id = create_primitives(p.GEOM_SPHERE, radius = 0.02)\n",
    "pos = x_target[:]\n",
    "\n",
    "p.resetBasePositionAndOrientation(sphere_id, pos, (0,0,0,1))\n",
    "\n",
    "\n",
    "k = joint_angles_k.shape[0]\n",
    "dt = 0.5\n",
    "dT = 2\n",
    "for i in range(2*k):\n",
    "    set_q_std(joint_angles_k[i%k])\n",
    "    time.sleep(dt)\n",
    "    set_q_std(joint_angles_k_opt[i%k])\n",
    "    time.sleep(2*dt)\n",
    "    "
   ]
  },
  {
   "cell_type": "code",
   "execution_count": null,
   "metadata": {},
   "outputs": [],
   "source": []
  },
  {
   "cell_type": "code",
   "execution_count": null,
   "metadata": {},
   "outputs": [],
   "source": []
  }
 ],
 "metadata": {
  "kernelspec": {
   "display_name": "Python 3",
   "language": "python",
   "name": "python3"
  },
  "language_info": {
   "codemirror_mode": {
    "name": "ipython",
    "version": 3
   },
   "file_extension": ".py",
   "mimetype": "text/x-python",
   "name": "python",
   "nbconvert_exporter": "python",
   "pygments_lexer": "ipython3",
   "version": "3.8.5"
  }
 },
 "nbformat": 4,
 "nbformat_minor": 4
}
